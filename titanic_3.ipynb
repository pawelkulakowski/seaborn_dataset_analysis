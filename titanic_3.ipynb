{
 "cells": [
  {
   "cell_type": "markdown",
   "id": "07b5839e",
   "metadata": {},
   "source": [
    "# The goal of this task is to prepare titanic data set for further analysis using pandas and numpy. Playing with data types, null values (replacing by mean, mode), playing with string values, using map function"
   ]
  },
  {
   "cell_type": "code",
   "execution_count": 335,
   "id": "023a32ad",
   "metadata": {},
   "outputs": [],
   "source": [
    "import pandas as pd\n",
    "import numpy as np\n",
    "import matplotlib.pyplot as plt\n",
    "import seaborn as sns\n",
    "\n",
    "sns.set(style=\"ticks\")\n",
    "plt.style.use(\"fivethirtyeight\")"
   ]
  },
  {
   "cell_type": "code",
   "execution_count": 242,
   "id": "7c3ab1c4",
   "metadata": {},
   "outputs": [],
   "source": [
    "df = pd.read_excel('stinky_titanic_data.xlsx')"
   ]
  },
  {
   "cell_type": "code",
   "execution_count": 243,
   "id": "03f741df",
   "metadata": {},
   "outputs": [
    {
     "data": {
      "text/html": [
       "<div>\n",
       "<style scoped>\n",
       "    .dataframe tbody tr th:only-of-type {\n",
       "        vertical-align: middle;\n",
       "    }\n",
       "\n",
       "    .dataframe tbody tr th {\n",
       "        vertical-align: top;\n",
       "    }\n",
       "\n",
       "    .dataframe thead th {\n",
       "        text-align: right;\n",
       "    }\n",
       "</style>\n",
       "<table border=\"1\" class=\"dataframe\">\n",
       "  <thead>\n",
       "    <tr style=\"text-align: right;\">\n",
       "      <th></th>\n",
       "      <th>PassengerId</th>\n",
       "      <th>Survived</th>\n",
       "      <th>Pclass</th>\n",
       "      <th>Name</th>\n",
       "      <th>Sex</th>\n",
       "      <th>Age</th>\n",
       "      <th>SibSp</th>\n",
       "      <th>Parch</th>\n",
       "      <th>Ticket</th>\n",
       "      <th>Fare</th>\n",
       "      <th>Cabin</th>\n",
       "      <th>Embarked</th>\n",
       "    </tr>\n",
       "  </thead>\n",
       "  <tbody>\n",
       "    <tr>\n",
       "      <th>0</th>\n",
       "      <td>1</td>\n",
       "      <td>0</td>\n",
       "      <td>3</td>\n",
       "      <td>Mr ,Owen Harris</td>\n",
       "      <td>male</td>\n",
       "      <td>22</td>\n",
       "      <td>1</td>\n",
       "      <td>0</td>\n",
       "      <td>A/5 21171</td>\n",
       "      <td>7.2500</td>\n",
       "      <td>NaN</td>\n",
       "      <td>S</td>\n",
       "    </tr>\n",
       "    <tr>\n",
       "      <th>1</th>\n",
       "      <td>2</td>\n",
       "      <td>1</td>\n",
       "      <td>1</td>\n",
       "      <td>Mrs ,John Bradley (Florence Briggs Thayer)</td>\n",
       "      <td>female</td>\n",
       "      <td>38</td>\n",
       "      <td>1</td>\n",
       "      <td>0</td>\n",
       "      <td>PC 17599</td>\n",
       "      <td>71.2833</td>\n",
       "      <td>C85</td>\n",
       "      <td>C</td>\n",
       "    </tr>\n",
       "    <tr>\n",
       "      <th>2</th>\n",
       "      <td>3</td>\n",
       "      <td>1</td>\n",
       "      <td>3</td>\n",
       "      <td>Miss ,Laina</td>\n",
       "      <td>female</td>\n",
       "      <td>26</td>\n",
       "      <td>0</td>\n",
       "      <td>0</td>\n",
       "      <td>STON/O2. 3101282</td>\n",
       "      <td>7.9250</td>\n",
       "      <td>NaN</td>\n",
       "      <td>S</td>\n",
       "    </tr>\n",
       "    <tr>\n",
       "      <th>3</th>\n",
       "      <td>4</td>\n",
       "      <td>1</td>\n",
       "      <td>1</td>\n",
       "      <td>Mrs ,Jacques Heath (Lily May Peel)</td>\n",
       "      <td>female</td>\n",
       "      <td>35</td>\n",
       "      <td>1</td>\n",
       "      <td>0</td>\n",
       "      <td>113803</td>\n",
       "      <td>53.1000</td>\n",
       "      <td>C123</td>\n",
       "      <td>S</td>\n",
       "    </tr>\n",
       "    <tr>\n",
       "      <th>4</th>\n",
       "      <td>5</td>\n",
       "      <td>0</td>\n",
       "      <td>3</td>\n",
       "      <td>Mr ,William Henry</td>\n",
       "      <td>male</td>\n",
       "      <td>NaN</td>\n",
       "      <td>0</td>\n",
       "      <td>0</td>\n",
       "      <td>373450</td>\n",
       "      <td>8.0500</td>\n",
       "      <td>NaN</td>\n",
       "      <td>S</td>\n",
       "    </tr>\n",
       "    <tr>\n",
       "      <th>5</th>\n",
       "      <td>6</td>\n",
       "      <td>0</td>\n",
       "      <td>3</td>\n",
       "      <td>Mr ,James</td>\n",
       "      <td>male</td>\n",
       "      <td>thirty eight</td>\n",
       "      <td>0</td>\n",
       "      <td>0</td>\n",
       "      <td>330877</td>\n",
       "      <td>8.4583</td>\n",
       "      <td>NaN</td>\n",
       "      <td>Q</td>\n",
       "    </tr>\n",
       "    <tr>\n",
       "      <th>6</th>\n",
       "      <td>7</td>\n",
       "      <td>0</td>\n",
       "      <td>1</td>\n",
       "      <td>Mr ,Timothy J</td>\n",
       "      <td>male</td>\n",
       "      <td>54</td>\n",
       "      <td>0</td>\n",
       "      <td>0</td>\n",
       "      <td>17463</td>\n",
       "      <td>51.8625</td>\n",
       "      <td>E46</td>\n",
       "      <td>S</td>\n",
       "    </tr>\n",
       "    <tr>\n",
       "      <th>7</th>\n",
       "      <td>8</td>\n",
       "      <td>0</td>\n",
       "      <td>3</td>\n",
       "      <td>Master ,Gosta Leonard</td>\n",
       "      <td>male</td>\n",
       "      <td>two</td>\n",
       "      <td>3</td>\n",
       "      <td>1</td>\n",
       "      <td>349909</td>\n",
       "      <td>21.0750</td>\n",
       "      <td>NaN</td>\n",
       "      <td>S</td>\n",
       "    </tr>\n",
       "    <tr>\n",
       "      <th>8</th>\n",
       "      <td>9</td>\n",
       "      <td>1</td>\n",
       "      <td>3</td>\n",
       "      <td>Mrs ,Oscar W (Elisabeth Vilhelmina Berg)</td>\n",
       "      <td>female</td>\n",
       "      <td>27</td>\n",
       "      <td>0</td>\n",
       "      <td>2</td>\n",
       "      <td>347742</td>\n",
       "      <td>11.1333</td>\n",
       "      <td>NaN</td>\n",
       "      <td>S</td>\n",
       "    </tr>\n",
       "    <tr>\n",
       "      <th>9</th>\n",
       "      <td>10</td>\n",
       "      <td>1</td>\n",
       "      <td>2</td>\n",
       "      <td>Mrs ,Nicholas (Adele Achem)</td>\n",
       "      <td>female</td>\n",
       "      <td>14</td>\n",
       "      <td>1</td>\n",
       "      <td>0</td>\n",
       "      <td>237736</td>\n",
       "      <td>30.0708</td>\n",
       "      <td>NaN</td>\n",
       "      <td>C</td>\n",
       "    </tr>\n",
       "  </tbody>\n",
       "</table>\n",
       "</div>"
      ],
      "text/plain": [
       "   PassengerId  Survived  Pclass                                        Name  \\\n",
       "0            1         0       3                             Mr ,Owen Harris   \n",
       "1            2         1       1  Mrs ,John Bradley (Florence Briggs Thayer)   \n",
       "2            3         1       3                                 Miss ,Laina   \n",
       "3            4         1       1          Mrs ,Jacques Heath (Lily May Peel)   \n",
       "4            5         0       3                           Mr ,William Henry   \n",
       "5            6         0       3                                   Mr ,James   \n",
       "6            7         0       1                               Mr ,Timothy J   \n",
       "7            8         0       3                       Master ,Gosta Leonard   \n",
       "8            9         1       3    Mrs ,Oscar W (Elisabeth Vilhelmina Berg)   \n",
       "9           10         1       2                 Mrs ,Nicholas (Adele Achem)   \n",
       "\n",
       "      Sex           Age  SibSp  Parch            Ticket     Fare Cabin  \\\n",
       "0    male            22      1      0         A/5 21171   7.2500   NaN   \n",
       "1  female            38      1      0          PC 17599  71.2833   C85   \n",
       "2  female            26      0      0  STON/O2. 3101282   7.9250   NaN   \n",
       "3  female            35      1      0            113803  53.1000  C123   \n",
       "4    male           NaN      0      0            373450   8.0500   NaN   \n",
       "5    male  thirty eight      0      0            330877   8.4583   NaN   \n",
       "6    male            54      0      0             17463  51.8625   E46   \n",
       "7    male           two      3      1            349909  21.0750   NaN   \n",
       "8  female            27      0      2            347742  11.1333   NaN   \n",
       "9  female            14      1      0            237736  30.0708   NaN   \n",
       "\n",
       "  Embarked  \n",
       "0        S  \n",
       "1        C  \n",
       "2        S  \n",
       "3        S  \n",
       "4        S  \n",
       "5        Q  \n",
       "6        S  \n",
       "7        S  \n",
       "8        S  \n",
       "9        C  "
      ]
     },
     "execution_count": 243,
     "metadata": {},
     "output_type": "execute_result"
    }
   ],
   "source": [
    "df.head(10)"
   ]
  },
  {
   "cell_type": "code",
   "execution_count": 244,
   "id": "2a2439ae",
   "metadata": {},
   "outputs": [
    {
     "name": "stdout",
     "output_type": "stream",
     "text": [
      "<class 'pandas.core.frame.DataFrame'>\n",
      "RangeIndex: 891 entries, 0 to 890\n",
      "Data columns (total 12 columns):\n",
      " #   Column       Non-Null Count  Dtype  \n",
      "---  ------       --------------  -----  \n",
      " 0   PassengerId  891 non-null    int64  \n",
      " 1   Survived     891 non-null    int64  \n",
      " 2   Pclass       891 non-null    int64  \n",
      " 3   Name         891 non-null    object \n",
      " 4   Sex          891 non-null    object \n",
      " 5   Age          714 non-null    object \n",
      " 6   SibSp        891 non-null    int64  \n",
      " 7   Parch        891 non-null    int64  \n",
      " 8   Ticket       891 non-null    object \n",
      " 9   Fare         891 non-null    float64\n",
      " 10  Cabin        204 non-null    object \n",
      " 11  Embarked     890 non-null    object \n",
      "dtypes: float64(1), int64(5), object(6)\n",
      "memory usage: 83.7+ KB\n"
     ]
    }
   ],
   "source": [
    "df.info()"
   ]
  },
  {
   "cell_type": "markdown",
   "id": "0d5e64f6",
   "metadata": {},
   "source": [
    "## Creating custom stats table"
   ]
  },
  {
   "cell_type": "code",
   "execution_count": 245,
   "id": "fcba527f",
   "metadata": {},
   "outputs": [
    {
     "data": {
      "text/html": [
       "<div>\n",
       "<style scoped>\n",
       "    .dataframe tbody tr th:only-of-type {\n",
       "        vertical-align: middle;\n",
       "    }\n",
       "\n",
       "    .dataframe tbody tr th {\n",
       "        vertical-align: top;\n",
       "    }\n",
       "\n",
       "    .dataframe thead th {\n",
       "        text-align: right;\n",
       "    }\n",
       "</style>\n",
       "<table border=\"1\" class=\"dataframe\">\n",
       "  <thead>\n",
       "    <tr style=\"text-align: right;\">\n",
       "      <th></th>\n",
       "      <th>column_name</th>\n",
       "      <th>count</th>\n",
       "      <th>unique</th>\n",
       "      <th>mean</th>\n",
       "      <th>std</th>\n",
       "      <th>min</th>\n",
       "      <th>25%</th>\n",
       "      <th>50%</th>\n",
       "      <th>75%</th>\n",
       "      <th>max</th>\n",
       "      <th>dtype</th>\n",
       "      <th>key</th>\n",
       "      <th>nulls</th>\n",
       "      <th>category</th>\n",
       "      <th>boolean</th>\n",
       "      <th>completness</th>\n",
       "    </tr>\n",
       "  </thead>\n",
       "  <tbody>\n",
       "    <tr>\n",
       "      <th>0</th>\n",
       "      <td>PassengerId</td>\n",
       "      <td>891</td>\n",
       "      <td>891</td>\n",
       "      <td>446.0</td>\n",
       "      <td>257.0</td>\n",
       "      <td>1.0</td>\n",
       "      <td>223.0</td>\n",
       "      <td>446.0</td>\n",
       "      <td>668.0</td>\n",
       "      <td>891.0</td>\n",
       "      <td>int64</td>\n",
       "      <td>probably</td>\n",
       "      <td>0</td>\n",
       "      <td>-</td>\n",
       "      <td>-</td>\n",
       "      <td>100.00</td>\n",
       "    </tr>\n",
       "    <tr>\n",
       "      <th>1</th>\n",
       "      <td>Survived</td>\n",
       "      <td>891</td>\n",
       "      <td>2</td>\n",
       "      <td>0.0</td>\n",
       "      <td>0.0</td>\n",
       "      <td>0.0</td>\n",
       "      <td>0.0</td>\n",
       "      <td>0.0</td>\n",
       "      <td>1.0</td>\n",
       "      <td>1.0</td>\n",
       "      <td>int64</td>\n",
       "      <td>-</td>\n",
       "      <td>0</td>\n",
       "      <td>probably</td>\n",
       "      <td>probably</td>\n",
       "      <td>100.00</td>\n",
       "    </tr>\n",
       "    <tr>\n",
       "      <th>2</th>\n",
       "      <td>Pclass</td>\n",
       "      <td>891</td>\n",
       "      <td>3</td>\n",
       "      <td>2.0</td>\n",
       "      <td>0.0</td>\n",
       "      <td>1.0</td>\n",
       "      <td>2.0</td>\n",
       "      <td>3.0</td>\n",
       "      <td>3.0</td>\n",
       "      <td>3.0</td>\n",
       "      <td>int64</td>\n",
       "      <td>-</td>\n",
       "      <td>0</td>\n",
       "      <td>probably</td>\n",
       "      <td>-</td>\n",
       "      <td>100.00</td>\n",
       "    </tr>\n",
       "    <tr>\n",
       "      <th>3</th>\n",
       "      <td>Name</td>\n",
       "      <td>891</td>\n",
       "      <td>807</td>\n",
       "      <td>-</td>\n",
       "      <td>-</td>\n",
       "      <td>-</td>\n",
       "      <td>-</td>\n",
       "      <td>-</td>\n",
       "      <td>-</td>\n",
       "      <td>-</td>\n",
       "      <td>object</td>\n",
       "      <td>-</td>\n",
       "      <td>0</td>\n",
       "      <td>-</td>\n",
       "      <td>-</td>\n",
       "      <td>100.00</td>\n",
       "    </tr>\n",
       "    <tr>\n",
       "      <th>4</th>\n",
       "      <td>Sex</td>\n",
       "      <td>891</td>\n",
       "      <td>2</td>\n",
       "      <td>-</td>\n",
       "      <td>-</td>\n",
       "      <td>-</td>\n",
       "      <td>-</td>\n",
       "      <td>-</td>\n",
       "      <td>-</td>\n",
       "      <td>-</td>\n",
       "      <td>object</td>\n",
       "      <td>-</td>\n",
       "      <td>0</td>\n",
       "      <td>probably</td>\n",
       "      <td>probably</td>\n",
       "      <td>100.00</td>\n",
       "    </tr>\n",
       "    <tr>\n",
       "      <th>5</th>\n",
       "      <td>Age</td>\n",
       "      <td>714</td>\n",
       "      <td>92</td>\n",
       "      <td>-</td>\n",
       "      <td>-</td>\n",
       "      <td>-</td>\n",
       "      <td>-</td>\n",
       "      <td>-</td>\n",
       "      <td>-</td>\n",
       "      <td>-</td>\n",
       "      <td>object</td>\n",
       "      <td>-</td>\n",
       "      <td>177</td>\n",
       "      <td>-</td>\n",
       "      <td>-</td>\n",
       "      <td>80.13</td>\n",
       "    </tr>\n",
       "    <tr>\n",
       "      <th>6</th>\n",
       "      <td>SibSp</td>\n",
       "      <td>891</td>\n",
       "      <td>7</td>\n",
       "      <td>0.0</td>\n",
       "      <td>1.0</td>\n",
       "      <td>0.0</td>\n",
       "      <td>0.0</td>\n",
       "      <td>0.0</td>\n",
       "      <td>1.0</td>\n",
       "      <td>8.0</td>\n",
       "      <td>int64</td>\n",
       "      <td>-</td>\n",
       "      <td>0</td>\n",
       "      <td>probably</td>\n",
       "      <td>-</td>\n",
       "      <td>100.00</td>\n",
       "    </tr>\n",
       "    <tr>\n",
       "      <th>7</th>\n",
       "      <td>Parch</td>\n",
       "      <td>891</td>\n",
       "      <td>7</td>\n",
       "      <td>0.0</td>\n",
       "      <td>0.0</td>\n",
       "      <td>0.0</td>\n",
       "      <td>0.0</td>\n",
       "      <td>0.0</td>\n",
       "      <td>0.0</td>\n",
       "      <td>6.0</td>\n",
       "      <td>int64</td>\n",
       "      <td>-</td>\n",
       "      <td>0</td>\n",
       "      <td>probably</td>\n",
       "      <td>-</td>\n",
       "      <td>100.00</td>\n",
       "    </tr>\n",
       "    <tr>\n",
       "      <th>8</th>\n",
       "      <td>Ticket</td>\n",
       "      <td>891</td>\n",
       "      <td>681</td>\n",
       "      <td>-</td>\n",
       "      <td>-</td>\n",
       "      <td>-</td>\n",
       "      <td>-</td>\n",
       "      <td>-</td>\n",
       "      <td>-</td>\n",
       "      <td>-</td>\n",
       "      <td>object</td>\n",
       "      <td>-</td>\n",
       "      <td>0</td>\n",
       "      <td>-</td>\n",
       "      <td>-</td>\n",
       "      <td>100.00</td>\n",
       "    </tr>\n",
       "    <tr>\n",
       "      <th>9</th>\n",
       "      <td>Fare</td>\n",
       "      <td>891</td>\n",
       "      <td>248</td>\n",
       "      <td>32.0</td>\n",
       "      <td>49.0</td>\n",
       "      <td>0.0</td>\n",
       "      <td>7.0</td>\n",
       "      <td>14.0</td>\n",
       "      <td>31.0</td>\n",
       "      <td>512.0</td>\n",
       "      <td>float64</td>\n",
       "      <td>-</td>\n",
       "      <td>0</td>\n",
       "      <td>-</td>\n",
       "      <td>-</td>\n",
       "      <td>100.00</td>\n",
       "    </tr>\n",
       "    <tr>\n",
       "      <th>10</th>\n",
       "      <td>Cabin</td>\n",
       "      <td>204</td>\n",
       "      <td>147</td>\n",
       "      <td>-</td>\n",
       "      <td>-</td>\n",
       "      <td>-</td>\n",
       "      <td>-</td>\n",
       "      <td>-</td>\n",
       "      <td>-</td>\n",
       "      <td>-</td>\n",
       "      <td>object</td>\n",
       "      <td>-</td>\n",
       "      <td>687</td>\n",
       "      <td>-</td>\n",
       "      <td>-</td>\n",
       "      <td>22.90</td>\n",
       "    </tr>\n",
       "    <tr>\n",
       "      <th>11</th>\n",
       "      <td>Embarked</td>\n",
       "      <td>890</td>\n",
       "      <td>3</td>\n",
       "      <td>-</td>\n",
       "      <td>-</td>\n",
       "      <td>-</td>\n",
       "      <td>-</td>\n",
       "      <td>-</td>\n",
       "      <td>-</td>\n",
       "      <td>-</td>\n",
       "      <td>object</td>\n",
       "      <td>-</td>\n",
       "      <td>1</td>\n",
       "      <td>probably</td>\n",
       "      <td>-</td>\n",
       "      <td>99.89</td>\n",
       "    </tr>\n",
       "  </tbody>\n",
       "</table>\n",
       "</div>"
      ],
      "text/plain": [
       "    column_name  count  unique   mean    std  min    25%    50%    75%    max  \\\n",
       "0   PassengerId    891     891  446.0  257.0  1.0  223.0  446.0  668.0  891.0   \n",
       "1      Survived    891       2    0.0    0.0  0.0    0.0    0.0    1.0    1.0   \n",
       "2        Pclass    891       3    2.0    0.0  1.0    2.0    3.0    3.0    3.0   \n",
       "3          Name    891     807      -      -    -      -      -      -      -   \n",
       "4           Sex    891       2      -      -    -      -      -      -      -   \n",
       "5           Age    714      92      -      -    -      -      -      -      -   \n",
       "6         SibSp    891       7    0.0    1.0  0.0    0.0    0.0    1.0    8.0   \n",
       "7         Parch    891       7    0.0    0.0  0.0    0.0    0.0    0.0    6.0   \n",
       "8        Ticket    891     681      -      -    -      -      -      -      -   \n",
       "9          Fare    891     248   32.0   49.0  0.0    7.0   14.0   31.0  512.0   \n",
       "10        Cabin    204     147      -      -    -      -      -      -      -   \n",
       "11     Embarked    890       3      -      -    -      -      -      -      -   \n",
       "\n",
       "      dtype       key  nulls  category   boolean  completness  \n",
       "0     int64  probably      0         -         -       100.00  \n",
       "1     int64         -      0  probably  probably       100.00  \n",
       "2     int64         -      0  probably         -       100.00  \n",
       "3    object         -      0         -         -       100.00  \n",
       "4    object         -      0  probably  probably       100.00  \n",
       "5    object         -    177         -         -        80.13  \n",
       "6     int64         -      0  probably         -       100.00  \n",
       "7     int64         -      0  probably         -       100.00  \n",
       "8    object         -      0         -         -       100.00  \n",
       "9   float64         -      0         -         -       100.00  \n",
       "10   object         -    687         -         -        22.90  \n",
       "11   object         -      1  probably         -        99.89  "
      ]
     },
     "execution_count": 245,
     "metadata": {},
     "output_type": "execute_result"
    }
   ],
   "source": [
    "#custom stats table inspired by capabilities of power bi and adding suggestions regading key value and data type\n",
    "\n",
    "df_stats_count = df.count().to_frame().reset_index().rename(columns={'index':'column_name', 0:'count'})\n",
    "df_stats_dtype = df.dtypes.to_frame().reset_index().rename(columns={'index':'column_name', 0:'dtype'})\n",
    "df_stats_unique = df.nunique().reset_index().rename(columns={'index':'column_name', 0:'unique'})\n",
    "df_stats_describe = df.describe().T.astype('int').reset_index().rename(columns={'index':'column_name'})\n",
    "df_stats_describe = df_stats_describe.drop(columns={'count'})\n",
    "\n",
    "df_stats = pd.merge(left=df_stats_count, right=df_stats_unique, how='left', on='column_name')\n",
    "df_stats = pd.merge(left=df_stats, right=df_stats_describe, how='left', on='column_name')\n",
    "df_stats = df_stats.fillna('-')\n",
    "df_stats = pd.merge(left=df_stats, right = df_stats_dtype, how='left', on='column_name')\n",
    "\n",
    "df_stats['key'] = np.where(df_stats['count']==df_stats['unique'], 'probably', '-')\n",
    "df_stats_nulls = df.isnull().sum().to_frame().reset_index().rename(columns={'index':'column_name', 0:'nulls'})\n",
    "df_stats = pd.merge(left=df_stats, right=df_stats_nulls, on='column_name', how='left')\n",
    "df_stats['category'] = np.where(df_stats['unique']<=9, 'probably', '-')\n",
    "df_stats['boolean'] = np.where(df_stats['unique']==2, 'probably', '-')\n",
    "df_stats['completness'] = (df_stats['count']/df_stats['count'].max()*100).round(2)\n",
    "df_stats"
   ]
  },
  {
   "cell_type": "code",
   "execution_count": 246,
   "id": "cfdb72fe",
   "metadata": {},
   "outputs": [
    {
     "data": {
      "text/html": [
       "<div>\n",
       "<style scoped>\n",
       "    .dataframe tbody tr th:only-of-type {\n",
       "        vertical-align: middle;\n",
       "    }\n",
       "\n",
       "    .dataframe tbody tr th {\n",
       "        vertical-align: top;\n",
       "    }\n",
       "\n",
       "    .dataframe thead th {\n",
       "        text-align: right;\n",
       "    }\n",
       "</style>\n",
       "<table border=\"1\" class=\"dataframe\">\n",
       "  <thead>\n",
       "    <tr style=\"text-align: right;\">\n",
       "      <th></th>\n",
       "      <th>PassengerId</th>\n",
       "      <th>Survived</th>\n",
       "      <th>Pclass</th>\n",
       "      <th>Name</th>\n",
       "      <th>Sex</th>\n",
       "      <th>Age</th>\n",
       "      <th>SibSp</th>\n",
       "      <th>Parch</th>\n",
       "      <th>Ticket</th>\n",
       "      <th>Fare</th>\n",
       "      <th>Cabin</th>\n",
       "      <th>Embarked</th>\n",
       "    </tr>\n",
       "  </thead>\n",
       "  <tbody>\n",
       "    <tr>\n",
       "      <th>count</th>\n",
       "      <td>891.000000</td>\n",
       "      <td>891.000000</td>\n",
       "      <td>891.000000</td>\n",
       "      <td>891</td>\n",
       "      <td>891</td>\n",
       "      <td>714.0</td>\n",
       "      <td>891.000000</td>\n",
       "      <td>891.000000</td>\n",
       "      <td>891.0</td>\n",
       "      <td>891.000000</td>\n",
       "      <td>204</td>\n",
       "      <td>890</td>\n",
       "    </tr>\n",
       "    <tr>\n",
       "      <th>unique</th>\n",
       "      <td>NaN</td>\n",
       "      <td>NaN</td>\n",
       "      <td>NaN</td>\n",
       "      <td>807</td>\n",
       "      <td>2</td>\n",
       "      <td>92.0</td>\n",
       "      <td>NaN</td>\n",
       "      <td>NaN</td>\n",
       "      <td>681.0</td>\n",
       "      <td>NaN</td>\n",
       "      <td>147</td>\n",
       "      <td>3</td>\n",
       "    </tr>\n",
       "    <tr>\n",
       "      <th>top</th>\n",
       "      <td>NaN</td>\n",
       "      <td>NaN</td>\n",
       "      <td>NaN</td>\n",
       "      <td>Mr , John</td>\n",
       "      <td>male</td>\n",
       "      <td>24.0</td>\n",
       "      <td>NaN</td>\n",
       "      <td>NaN</td>\n",
       "      <td>347082.0</td>\n",
       "      <td>NaN</td>\n",
       "      <td>B96 B98</td>\n",
       "      <td>S</td>\n",
       "    </tr>\n",
       "    <tr>\n",
       "      <th>freq</th>\n",
       "      <td>NaN</td>\n",
       "      <td>NaN</td>\n",
       "      <td>NaN</td>\n",
       "      <td>7</td>\n",
       "      <td>577</td>\n",
       "      <td>30.0</td>\n",
       "      <td>NaN</td>\n",
       "      <td>NaN</td>\n",
       "      <td>7.0</td>\n",
       "      <td>NaN</td>\n",
       "      <td>4</td>\n",
       "      <td>644</td>\n",
       "    </tr>\n",
       "    <tr>\n",
       "      <th>mean</th>\n",
       "      <td>446.000000</td>\n",
       "      <td>0.383838</td>\n",
       "      <td>2.308642</td>\n",
       "      <td>NaN</td>\n",
       "      <td>NaN</td>\n",
       "      <td>NaN</td>\n",
       "      <td>0.523008</td>\n",
       "      <td>0.381594</td>\n",
       "      <td>NaN</td>\n",
       "      <td>32.204208</td>\n",
       "      <td>NaN</td>\n",
       "      <td>NaN</td>\n",
       "    </tr>\n",
       "    <tr>\n",
       "      <th>std</th>\n",
       "      <td>257.353842</td>\n",
       "      <td>0.486592</td>\n",
       "      <td>0.836071</td>\n",
       "      <td>NaN</td>\n",
       "      <td>NaN</td>\n",
       "      <td>NaN</td>\n",
       "      <td>1.102743</td>\n",
       "      <td>0.806057</td>\n",
       "      <td>NaN</td>\n",
       "      <td>49.693429</td>\n",
       "      <td>NaN</td>\n",
       "      <td>NaN</td>\n",
       "    </tr>\n",
       "    <tr>\n",
       "      <th>min</th>\n",
       "      <td>1.000000</td>\n",
       "      <td>0.000000</td>\n",
       "      <td>1.000000</td>\n",
       "      <td>NaN</td>\n",
       "      <td>NaN</td>\n",
       "      <td>NaN</td>\n",
       "      <td>0.000000</td>\n",
       "      <td>0.000000</td>\n",
       "      <td>NaN</td>\n",
       "      <td>0.000000</td>\n",
       "      <td>NaN</td>\n",
       "      <td>NaN</td>\n",
       "    </tr>\n",
       "    <tr>\n",
       "      <th>25%</th>\n",
       "      <td>223.500000</td>\n",
       "      <td>0.000000</td>\n",
       "      <td>2.000000</td>\n",
       "      <td>NaN</td>\n",
       "      <td>NaN</td>\n",
       "      <td>NaN</td>\n",
       "      <td>0.000000</td>\n",
       "      <td>0.000000</td>\n",
       "      <td>NaN</td>\n",
       "      <td>7.910400</td>\n",
       "      <td>NaN</td>\n",
       "      <td>NaN</td>\n",
       "    </tr>\n",
       "    <tr>\n",
       "      <th>50%</th>\n",
       "      <td>446.000000</td>\n",
       "      <td>0.000000</td>\n",
       "      <td>3.000000</td>\n",
       "      <td>NaN</td>\n",
       "      <td>NaN</td>\n",
       "      <td>NaN</td>\n",
       "      <td>0.000000</td>\n",
       "      <td>0.000000</td>\n",
       "      <td>NaN</td>\n",
       "      <td>14.454200</td>\n",
       "      <td>NaN</td>\n",
       "      <td>NaN</td>\n",
       "    </tr>\n",
       "    <tr>\n",
       "      <th>75%</th>\n",
       "      <td>668.500000</td>\n",
       "      <td>1.000000</td>\n",
       "      <td>3.000000</td>\n",
       "      <td>NaN</td>\n",
       "      <td>NaN</td>\n",
       "      <td>NaN</td>\n",
       "      <td>1.000000</td>\n",
       "      <td>0.000000</td>\n",
       "      <td>NaN</td>\n",
       "      <td>31.000000</td>\n",
       "      <td>NaN</td>\n",
       "      <td>NaN</td>\n",
       "    </tr>\n",
       "    <tr>\n",
       "      <th>max</th>\n",
       "      <td>891.000000</td>\n",
       "      <td>1.000000</td>\n",
       "      <td>3.000000</td>\n",
       "      <td>NaN</td>\n",
       "      <td>NaN</td>\n",
       "      <td>NaN</td>\n",
       "      <td>8.000000</td>\n",
       "      <td>6.000000</td>\n",
       "      <td>NaN</td>\n",
       "      <td>512.329200</td>\n",
       "      <td>NaN</td>\n",
       "      <td>NaN</td>\n",
       "    </tr>\n",
       "  </tbody>\n",
       "</table>\n",
       "</div>"
      ],
      "text/plain": [
       "        PassengerId    Survived      Pclass       Name   Sex    Age  \\\n",
       "count    891.000000  891.000000  891.000000        891   891  714.0   \n",
       "unique          NaN         NaN         NaN        807     2   92.0   \n",
       "top             NaN         NaN         NaN  Mr , John  male   24.0   \n",
       "freq            NaN         NaN         NaN          7   577   30.0   \n",
       "mean     446.000000    0.383838    2.308642        NaN   NaN    NaN   \n",
       "std      257.353842    0.486592    0.836071        NaN   NaN    NaN   \n",
       "min        1.000000    0.000000    1.000000        NaN   NaN    NaN   \n",
       "25%      223.500000    0.000000    2.000000        NaN   NaN    NaN   \n",
       "50%      446.000000    0.000000    3.000000        NaN   NaN    NaN   \n",
       "75%      668.500000    1.000000    3.000000        NaN   NaN    NaN   \n",
       "max      891.000000    1.000000    3.000000        NaN   NaN    NaN   \n",
       "\n",
       "             SibSp       Parch    Ticket        Fare    Cabin Embarked  \n",
       "count   891.000000  891.000000     891.0  891.000000      204      890  \n",
       "unique         NaN         NaN     681.0         NaN      147        3  \n",
       "top            NaN         NaN  347082.0         NaN  B96 B98        S  \n",
       "freq           NaN         NaN       7.0         NaN        4      644  \n",
       "mean      0.523008    0.381594       NaN   32.204208      NaN      NaN  \n",
       "std       1.102743    0.806057       NaN   49.693429      NaN      NaN  \n",
       "min       0.000000    0.000000       NaN    0.000000      NaN      NaN  \n",
       "25%       0.000000    0.000000       NaN    7.910400      NaN      NaN  \n",
       "50%       0.000000    0.000000       NaN   14.454200      NaN      NaN  \n",
       "75%       1.000000    0.000000       NaN   31.000000      NaN      NaN  \n",
       "max       8.000000    6.000000       NaN  512.329200      NaN      NaN  "
      ]
     },
     "execution_count": 246,
     "metadata": {},
     "output_type": "execute_result"
    }
   ],
   "source": [
    "df.describe(include='all')"
   ]
  },
  {
   "cell_type": "markdown",
   "id": "ff97aee3",
   "metadata": {},
   "source": [
    "## PassengerId"
   ]
  },
  {
   "cell_type": "code",
   "execution_count": 247,
   "id": "750b933b",
   "metadata": {},
   "outputs": [
    {
     "data": {
      "text/plain": [
       "1"
      ]
     },
     "execution_count": 247,
     "metadata": {},
     "output_type": "execute_result"
    }
   ],
   "source": [
    "df['PassengerId'].min()"
   ]
  },
  {
   "cell_type": "code",
   "execution_count": 248,
   "id": "741fddcd",
   "metadata": {},
   "outputs": [
    {
     "data": {
      "text/plain": [
       "891"
      ]
     },
     "execution_count": 248,
     "metadata": {},
     "output_type": "execute_result"
    }
   ],
   "source": [
    "df['PassengerId'].max()"
   ]
  },
  {
   "cell_type": "code",
   "execution_count": 249,
   "id": "3b5d54f4",
   "metadata": {},
   "outputs": [
    {
     "data": {
      "text/plain": [
       "dtype('int64')"
      ]
     },
     "execution_count": 249,
     "metadata": {},
     "output_type": "execute_result"
    }
   ],
   "source": [
    "df['PassengerId'].dtype"
   ]
  },
  {
   "cell_type": "code",
   "execution_count": 250,
   "id": "78eb89f4",
   "metadata": {},
   "outputs": [],
   "source": [
    "df['PassengerId'] = df['PassengerId'].astype('int32')"
   ]
  },
  {
   "cell_type": "code",
   "execution_count": 251,
   "id": "5253958c",
   "metadata": {},
   "outputs": [
    {
     "name": "stdout",
     "output_type": "stream",
     "text": [
      "<class 'pandas.core.frame.DataFrame'>\n",
      "RangeIndex: 891 entries, 0 to 890\n",
      "Data columns (total 12 columns):\n",
      " #   Column       Non-Null Count  Dtype  \n",
      "---  ------       --------------  -----  \n",
      " 0   PassengerId  891 non-null    int32  \n",
      " 1   Survived     891 non-null    int64  \n",
      " 2   Pclass       891 non-null    int64  \n",
      " 3   Name         891 non-null    object \n",
      " 4   Sex          891 non-null    object \n",
      " 5   Age          714 non-null    object \n",
      " 6   SibSp        891 non-null    int64  \n",
      " 7   Parch        891 non-null    int64  \n",
      " 8   Ticket       891 non-null    object \n",
      " 9   Fare         891 non-null    float64\n",
      " 10  Cabin        204 non-null    object \n",
      " 11  Embarked     890 non-null    object \n",
      "dtypes: float64(1), int32(1), int64(4), object(6)\n",
      "memory usage: 80.2+ KB\n"
     ]
    }
   ],
   "source": [
    "df.info()"
   ]
  },
  {
   "cell_type": "markdown",
   "id": "9b78ddb7",
   "metadata": {},
   "source": [
    "### Survived"
   ]
  },
  {
   "cell_type": "code",
   "execution_count": 252,
   "id": "7c95b83e",
   "metadata": {},
   "outputs": [],
   "source": [
    "#changing survived column to boolean\n",
    "df['Survived'] = df['Survived'].astype('bool')"
   ]
  },
  {
   "cell_type": "markdown",
   "id": "1657f291",
   "metadata": {},
   "source": [
    "### Pclass"
   ]
  },
  {
   "cell_type": "code",
   "execution_count": 253,
   "id": "c6326a39",
   "metadata": {},
   "outputs": [
    {
     "data": {
      "text/plain": [
       "array([3, 1, 2], dtype=int64)"
      ]
     },
     "execution_count": 253,
     "metadata": {},
     "output_type": "execute_result"
    }
   ],
   "source": [
    "df['Pclass'].unique()"
   ]
  },
  {
   "cell_type": "code",
   "execution_count": 254,
   "id": "0d3bfceb",
   "metadata": {},
   "outputs": [
    {
     "data": {
      "text/plain": [
       "3"
      ]
     },
     "execution_count": 254,
     "metadata": {},
     "output_type": "execute_result"
    }
   ],
   "source": [
    "df['Pclass'].nunique()"
   ]
  },
  {
   "cell_type": "code",
   "execution_count": 255,
   "id": "b275e41e",
   "metadata": {},
   "outputs": [],
   "source": [
    "df['Pclass'] = df['Pclass'].astype('category')"
   ]
  },
  {
   "cell_type": "markdown",
   "id": "bc9fac42",
   "metadata": {},
   "source": [
    "### Name"
   ]
  },
  {
   "cell_type": "code",
   "execution_count": 256,
   "id": "dc1dcf90",
   "metadata": {},
   "outputs": [],
   "source": [
    "# adding new column called 'Title'\n",
    "# splitting the name and title, removing spaces\n",
    "df.insert(4, 'Title', '')\n",
    "df['Title'] = df['Name'].str.split(',', expand=True)[0].str.strip()\n",
    "df['Name'] = df['Name'].str.split(',', expand=True)[1].str.strip()"
   ]
  },
  {
   "cell_type": "code",
   "execution_count": 257,
   "id": "76695130",
   "metadata": {},
   "outputs": [
    {
     "data": {
      "text/html": [
       "<div>\n",
       "<style scoped>\n",
       "    .dataframe tbody tr th:only-of-type {\n",
       "        vertical-align: middle;\n",
       "    }\n",
       "\n",
       "    .dataframe tbody tr th {\n",
       "        vertical-align: top;\n",
       "    }\n",
       "\n",
       "    .dataframe thead th {\n",
       "        text-align: right;\n",
       "    }\n",
       "</style>\n",
       "<table border=\"1\" class=\"dataframe\">\n",
       "  <thead>\n",
       "    <tr style=\"text-align: right;\">\n",
       "      <th></th>\n",
       "      <th>PassengerId</th>\n",
       "      <th>Survived</th>\n",
       "      <th>Pclass</th>\n",
       "      <th>Name</th>\n",
       "      <th>Title</th>\n",
       "      <th>Sex</th>\n",
       "      <th>Age</th>\n",
       "      <th>SibSp</th>\n",
       "      <th>Parch</th>\n",
       "      <th>Ticket</th>\n",
       "      <th>Fare</th>\n",
       "      <th>Cabin</th>\n",
       "      <th>Embarked</th>\n",
       "    </tr>\n",
       "  </thead>\n",
       "  <tbody>\n",
       "    <tr>\n",
       "      <th>0</th>\n",
       "      <td>1</td>\n",
       "      <td>False</td>\n",
       "      <td>3</td>\n",
       "      <td>Owen Harris</td>\n",
       "      <td>Mr</td>\n",
       "      <td>male</td>\n",
       "      <td>22</td>\n",
       "      <td>1</td>\n",
       "      <td>0</td>\n",
       "      <td>A/5 21171</td>\n",
       "      <td>7.2500</td>\n",
       "      <td>NaN</td>\n",
       "      <td>S</td>\n",
       "    </tr>\n",
       "    <tr>\n",
       "      <th>1</th>\n",
       "      <td>2</td>\n",
       "      <td>True</td>\n",
       "      <td>1</td>\n",
       "      <td>John Bradley (Florence Briggs Thayer)</td>\n",
       "      <td>Mrs</td>\n",
       "      <td>female</td>\n",
       "      <td>38</td>\n",
       "      <td>1</td>\n",
       "      <td>0</td>\n",
       "      <td>PC 17599</td>\n",
       "      <td>71.2833</td>\n",
       "      <td>C85</td>\n",
       "      <td>C</td>\n",
       "    </tr>\n",
       "    <tr>\n",
       "      <th>2</th>\n",
       "      <td>3</td>\n",
       "      <td>True</td>\n",
       "      <td>3</td>\n",
       "      <td>Laina</td>\n",
       "      <td>Miss</td>\n",
       "      <td>female</td>\n",
       "      <td>26</td>\n",
       "      <td>0</td>\n",
       "      <td>0</td>\n",
       "      <td>STON/O2. 3101282</td>\n",
       "      <td>7.9250</td>\n",
       "      <td>NaN</td>\n",
       "      <td>S</td>\n",
       "    </tr>\n",
       "    <tr>\n",
       "      <th>3</th>\n",
       "      <td>4</td>\n",
       "      <td>True</td>\n",
       "      <td>1</td>\n",
       "      <td>Jacques Heath (Lily May Peel)</td>\n",
       "      <td>Mrs</td>\n",
       "      <td>female</td>\n",
       "      <td>35</td>\n",
       "      <td>1</td>\n",
       "      <td>0</td>\n",
       "      <td>113803</td>\n",
       "      <td>53.1000</td>\n",
       "      <td>C123</td>\n",
       "      <td>S</td>\n",
       "    </tr>\n",
       "    <tr>\n",
       "      <th>4</th>\n",
       "      <td>5</td>\n",
       "      <td>False</td>\n",
       "      <td>3</td>\n",
       "      <td>William Henry</td>\n",
       "      <td>Mr</td>\n",
       "      <td>male</td>\n",
       "      <td>NaN</td>\n",
       "      <td>0</td>\n",
       "      <td>0</td>\n",
       "      <td>373450</td>\n",
       "      <td>8.0500</td>\n",
       "      <td>NaN</td>\n",
       "      <td>S</td>\n",
       "    </tr>\n",
       "  </tbody>\n",
       "</table>\n",
       "</div>"
      ],
      "text/plain": [
       "   PassengerId  Survived Pclass                                   Name Title  \\\n",
       "0            1     False      3                            Owen Harris    Mr   \n",
       "1            2      True      1  John Bradley (Florence Briggs Thayer)   Mrs   \n",
       "2            3      True      3                                  Laina  Miss   \n",
       "3            4      True      1          Jacques Heath (Lily May Peel)   Mrs   \n",
       "4            5     False      3                          William Henry    Mr   \n",
       "\n",
       "      Sex  Age  SibSp  Parch            Ticket     Fare Cabin Embarked  \n",
       "0    male   22      1      0         A/5 21171   7.2500   NaN        S  \n",
       "1  female   38      1      0          PC 17599  71.2833   C85        C  \n",
       "2  female   26      0      0  STON/O2. 3101282   7.9250   NaN        S  \n",
       "3  female   35      1      0            113803  53.1000  C123        S  \n",
       "4    male  NaN      0      0            373450   8.0500   NaN        S  "
      ]
     },
     "execution_count": 257,
     "metadata": {},
     "output_type": "execute_result"
    }
   ],
   "source": [
    "df.head()"
   ]
  },
  {
   "cell_type": "code",
   "execution_count": 258,
   "id": "ddd5f2b0",
   "metadata": {},
   "outputs": [
    {
     "data": {
      "text/plain": [
       "array(['Mr', 'Mrs', 'Miss', 'Master', '', 'Rev', 'Dr', 'Mme', 'Ms',\n",
       "       'Major', 'Lady', 'Sir', 'Mlle', 'Col', 'Capt', 'Countess'],\n",
       "      dtype=object)"
      ]
     },
     "execution_count": 258,
     "metadata": {},
     "output_type": "execute_result"
    }
   ],
   "source": [
    "df['Title'].unique()"
   ]
  },
  {
   "cell_type": "code",
   "execution_count": 259,
   "id": "a6ef172a",
   "metadata": {},
   "outputs": [
    {
     "data": {
      "text/html": [
       "<div>\n",
       "<style scoped>\n",
       "    .dataframe tbody tr th:only-of-type {\n",
       "        vertical-align: middle;\n",
       "    }\n",
       "\n",
       "    .dataframe tbody tr th {\n",
       "        vertical-align: top;\n",
       "    }\n",
       "\n",
       "    .dataframe thead th {\n",
       "        text-align: right;\n",
       "    }\n",
       "</style>\n",
       "<table border=\"1\" class=\"dataframe\">\n",
       "  <thead>\n",
       "    <tr style=\"text-align: right;\">\n",
       "      <th>Sex</th>\n",
       "      <th>female</th>\n",
       "      <th>male</th>\n",
       "    </tr>\n",
       "    <tr>\n",
       "      <th>Title</th>\n",
       "      <th></th>\n",
       "      <th></th>\n",
       "    </tr>\n",
       "  </thead>\n",
       "  <tbody>\n",
       "    <tr>\n",
       "      <th></th>\n",
       "      <td>0</td>\n",
       "      <td>2</td>\n",
       "    </tr>\n",
       "    <tr>\n",
       "      <th>Capt</th>\n",
       "      <td>0</td>\n",
       "      <td>1</td>\n",
       "    </tr>\n",
       "    <tr>\n",
       "      <th>Col</th>\n",
       "      <td>0</td>\n",
       "      <td>2</td>\n",
       "    </tr>\n",
       "    <tr>\n",
       "      <th>Countess</th>\n",
       "      <td>1</td>\n",
       "      <td>0</td>\n",
       "    </tr>\n",
       "    <tr>\n",
       "      <th>Dr</th>\n",
       "      <td>1</td>\n",
       "      <td>6</td>\n",
       "    </tr>\n",
       "    <tr>\n",
       "      <th>Lady</th>\n",
       "      <td>1</td>\n",
       "      <td>0</td>\n",
       "    </tr>\n",
       "    <tr>\n",
       "      <th>Major</th>\n",
       "      <td>0</td>\n",
       "      <td>2</td>\n",
       "    </tr>\n",
       "    <tr>\n",
       "      <th>Master</th>\n",
       "      <td>0</td>\n",
       "      <td>40</td>\n",
       "    </tr>\n",
       "    <tr>\n",
       "      <th>Miss</th>\n",
       "      <td>182</td>\n",
       "      <td>0</td>\n",
       "    </tr>\n",
       "    <tr>\n",
       "      <th>Mlle</th>\n",
       "      <td>1</td>\n",
       "      <td>0</td>\n",
       "    </tr>\n",
       "    <tr>\n",
       "      <th>Mme</th>\n",
       "      <td>1</td>\n",
       "      <td>0</td>\n",
       "    </tr>\n",
       "    <tr>\n",
       "      <th>Mr</th>\n",
       "      <td>0</td>\n",
       "      <td>517</td>\n",
       "    </tr>\n",
       "    <tr>\n",
       "      <th>Mrs</th>\n",
       "      <td>126</td>\n",
       "      <td>0</td>\n",
       "    </tr>\n",
       "    <tr>\n",
       "      <th>Ms</th>\n",
       "      <td>1</td>\n",
       "      <td>0</td>\n",
       "    </tr>\n",
       "    <tr>\n",
       "      <th>Rev</th>\n",
       "      <td>0</td>\n",
       "      <td>6</td>\n",
       "    </tr>\n",
       "    <tr>\n",
       "      <th>Sir</th>\n",
       "      <td>0</td>\n",
       "      <td>1</td>\n",
       "    </tr>\n",
       "  </tbody>\n",
       "</table>\n",
       "</div>"
      ],
      "text/plain": [
       "Sex       female  male\n",
       "Title                 \n",
       "               0     2\n",
       "Capt           0     1\n",
       "Col            0     2\n",
       "Countess       1     0\n",
       "Dr             1     6\n",
       "Lady           1     0\n",
       "Major          0     2\n",
       "Master         0    40\n",
       "Miss         182     0\n",
       "Mlle           1     0\n",
       "Mme            1     0\n",
       "Mr             0   517\n",
       "Mrs          126     0\n",
       "Ms             1     0\n",
       "Rev            0     6\n",
       "Sir            0     1"
      ]
     },
     "execution_count": 259,
     "metadata": {},
     "output_type": "execute_result"
    }
   ],
   "source": [
    "# showing frequency between title and sex\n",
    "pd.crosstab(df['Title'], df['Sex'])"
   ]
  },
  {
   "cell_type": "code",
   "execution_count": 260,
   "id": "6fcde547",
   "metadata": {},
   "outputs": [
    {
     "data": {
      "text/plain": [
       "array(['Mr', 'Mrs', 'Miss', 'Master', '', 'Rare'], dtype=object)"
      ]
     },
     "execution_count": 260,
     "metadata": {},
     "output_type": "execute_result"
    }
   ],
   "source": [
    "df['Title'] = df['Title'].replace(['Lady', 'Countess','Capt', 'Col','Dr', 'Major', 'Rev', 'Sir'], 'Rare')\n",
    "df['Title'] = df['Title'].replace('Mlle', 'Miss')\n",
    "df['Title'] = df['Title'].replace('Ms', 'Miss')\n",
    "df['Title'] = df['Title'].replace('Mme', 'Mrs')\n",
    "df['Title'].unique()"
   ]
  },
  {
   "cell_type": "code",
   "execution_count": 261,
   "id": "95cd686a",
   "metadata": {},
   "outputs": [
    {
     "data": {
      "text/html": [
       "<div>\n",
       "<style scoped>\n",
       "    .dataframe tbody tr th:only-of-type {\n",
       "        vertical-align: middle;\n",
       "    }\n",
       "\n",
       "    .dataframe tbody tr th {\n",
       "        vertical-align: top;\n",
       "    }\n",
       "\n",
       "    .dataframe thead th {\n",
       "        text-align: right;\n",
       "    }\n",
       "</style>\n",
       "<table border=\"1\" class=\"dataframe\">\n",
       "  <thead>\n",
       "    <tr style=\"text-align: right;\">\n",
       "      <th>Sex</th>\n",
       "      <th>female</th>\n",
       "      <th>male</th>\n",
       "    </tr>\n",
       "    <tr>\n",
       "      <th>Title</th>\n",
       "      <th></th>\n",
       "      <th></th>\n",
       "    </tr>\n",
       "  </thead>\n",
       "  <tbody>\n",
       "    <tr>\n",
       "      <th></th>\n",
       "      <td>0</td>\n",
       "      <td>2</td>\n",
       "    </tr>\n",
       "    <tr>\n",
       "      <th>Master</th>\n",
       "      <td>0</td>\n",
       "      <td>40</td>\n",
       "    </tr>\n",
       "    <tr>\n",
       "      <th>Miss</th>\n",
       "      <td>184</td>\n",
       "      <td>0</td>\n",
       "    </tr>\n",
       "    <tr>\n",
       "      <th>Mr</th>\n",
       "      <td>0</td>\n",
       "      <td>517</td>\n",
       "    </tr>\n",
       "    <tr>\n",
       "      <th>Mrs</th>\n",
       "      <td>127</td>\n",
       "      <td>0</td>\n",
       "    </tr>\n",
       "    <tr>\n",
       "      <th>Rare</th>\n",
       "      <td>3</td>\n",
       "      <td>18</td>\n",
       "    </tr>\n",
       "  </tbody>\n",
       "</table>\n",
       "</div>"
      ],
      "text/plain": [
       "Sex     female  male\n",
       "Title               \n",
       "             0     2\n",
       "Master       0    40\n",
       "Miss       184     0\n",
       "Mr           0   517\n",
       "Mrs        127     0\n",
       "Rare         3    18"
      ]
     },
     "execution_count": 261,
     "metadata": {},
     "output_type": "execute_result"
    }
   ],
   "source": [
    "pd.crosstab(df['Title'], df['Sex'])"
   ]
  },
  {
   "cell_type": "code",
   "execution_count": 262,
   "id": "7b1718ad",
   "metadata": {},
   "outputs": [
    {
     "data": {
      "text/html": [
       "<div>\n",
       "<style scoped>\n",
       "    .dataframe tbody tr th:only-of-type {\n",
       "        vertical-align: middle;\n",
       "    }\n",
       "\n",
       "    .dataframe tbody tr th {\n",
       "        vertical-align: top;\n",
       "    }\n",
       "\n",
       "    .dataframe thead th {\n",
       "        text-align: right;\n",
       "    }\n",
       "</style>\n",
       "<table border=\"1\" class=\"dataframe\">\n",
       "  <thead>\n",
       "    <tr style=\"text-align: right;\">\n",
       "      <th></th>\n",
       "      <th>PassengerId</th>\n",
       "      <th>Survived</th>\n",
       "      <th>Pclass</th>\n",
       "      <th>Name</th>\n",
       "      <th>Title</th>\n",
       "      <th>Sex</th>\n",
       "      <th>Age</th>\n",
       "      <th>SibSp</th>\n",
       "      <th>Parch</th>\n",
       "      <th>Ticket</th>\n",
       "      <th>Fare</th>\n",
       "      <th>Cabin</th>\n",
       "      <th>Embarked</th>\n",
       "    </tr>\n",
       "  </thead>\n",
       "  <tbody>\n",
       "    <tr>\n",
       "      <th>0</th>\n",
       "      <td>1</td>\n",
       "      <td>False</td>\n",
       "      <td>3</td>\n",
       "      <td>Owen Harris</td>\n",
       "      <td>Mr</td>\n",
       "      <td>male</td>\n",
       "      <td>22</td>\n",
       "      <td>1</td>\n",
       "      <td>0</td>\n",
       "      <td>A/5 21171</td>\n",
       "      <td>7.2500</td>\n",
       "      <td>NaN</td>\n",
       "      <td>S</td>\n",
       "    </tr>\n",
       "    <tr>\n",
       "      <th>1</th>\n",
       "      <td>2</td>\n",
       "      <td>True</td>\n",
       "      <td>1</td>\n",
       "      <td>John Bradley (Florence Briggs Thayer)</td>\n",
       "      <td>Mrs</td>\n",
       "      <td>female</td>\n",
       "      <td>38</td>\n",
       "      <td>1</td>\n",
       "      <td>0</td>\n",
       "      <td>PC 17599</td>\n",
       "      <td>71.2833</td>\n",
       "      <td>C85</td>\n",
       "      <td>C</td>\n",
       "    </tr>\n",
       "    <tr>\n",
       "      <th>2</th>\n",
       "      <td>3</td>\n",
       "      <td>True</td>\n",
       "      <td>3</td>\n",
       "      <td>Laina</td>\n",
       "      <td>Miss</td>\n",
       "      <td>female</td>\n",
       "      <td>26</td>\n",
       "      <td>0</td>\n",
       "      <td>0</td>\n",
       "      <td>STON/O2. 3101282</td>\n",
       "      <td>7.9250</td>\n",
       "      <td>NaN</td>\n",
       "      <td>S</td>\n",
       "    </tr>\n",
       "    <tr>\n",
       "      <th>3</th>\n",
       "      <td>4</td>\n",
       "      <td>True</td>\n",
       "      <td>1</td>\n",
       "      <td>Jacques Heath (Lily May Peel)</td>\n",
       "      <td>Mrs</td>\n",
       "      <td>female</td>\n",
       "      <td>35</td>\n",
       "      <td>1</td>\n",
       "      <td>0</td>\n",
       "      <td>113803</td>\n",
       "      <td>53.1000</td>\n",
       "      <td>C123</td>\n",
       "      <td>S</td>\n",
       "    </tr>\n",
       "    <tr>\n",
       "      <th>4</th>\n",
       "      <td>5</td>\n",
       "      <td>False</td>\n",
       "      <td>3</td>\n",
       "      <td>William Henry</td>\n",
       "      <td>Mr</td>\n",
       "      <td>male</td>\n",
       "      <td>NaN</td>\n",
       "      <td>0</td>\n",
       "      <td>0</td>\n",
       "      <td>373450</td>\n",
       "      <td>8.0500</td>\n",
       "      <td>NaN</td>\n",
       "      <td>S</td>\n",
       "    </tr>\n",
       "    <tr>\n",
       "      <th>5</th>\n",
       "      <td>6</td>\n",
       "      <td>False</td>\n",
       "      <td>3</td>\n",
       "      <td>James</td>\n",
       "      <td>Mr</td>\n",
       "      <td>male</td>\n",
       "      <td>thirty eight</td>\n",
       "      <td>0</td>\n",
       "      <td>0</td>\n",
       "      <td>330877</td>\n",
       "      <td>8.4583</td>\n",
       "      <td>NaN</td>\n",
       "      <td>Q</td>\n",
       "    </tr>\n",
       "    <tr>\n",
       "      <th>6</th>\n",
       "      <td>7</td>\n",
       "      <td>False</td>\n",
       "      <td>1</td>\n",
       "      <td>Timothy J</td>\n",
       "      <td>Mr</td>\n",
       "      <td>male</td>\n",
       "      <td>54</td>\n",
       "      <td>0</td>\n",
       "      <td>0</td>\n",
       "      <td>17463</td>\n",
       "      <td>51.8625</td>\n",
       "      <td>E46</td>\n",
       "      <td>S</td>\n",
       "    </tr>\n",
       "    <tr>\n",
       "      <th>7</th>\n",
       "      <td>8</td>\n",
       "      <td>False</td>\n",
       "      <td>3</td>\n",
       "      <td>Gosta Leonard</td>\n",
       "      <td>Master</td>\n",
       "      <td>male</td>\n",
       "      <td>two</td>\n",
       "      <td>3</td>\n",
       "      <td>1</td>\n",
       "      <td>349909</td>\n",
       "      <td>21.0750</td>\n",
       "      <td>NaN</td>\n",
       "      <td>S</td>\n",
       "    </tr>\n",
       "    <tr>\n",
       "      <th>8</th>\n",
       "      <td>9</td>\n",
       "      <td>True</td>\n",
       "      <td>3</td>\n",
       "      <td>Oscar W (Elisabeth Vilhelmina Berg)</td>\n",
       "      <td>Mrs</td>\n",
       "      <td>female</td>\n",
       "      <td>27</td>\n",
       "      <td>0</td>\n",
       "      <td>2</td>\n",
       "      <td>347742</td>\n",
       "      <td>11.1333</td>\n",
       "      <td>NaN</td>\n",
       "      <td>S</td>\n",
       "    </tr>\n",
       "    <tr>\n",
       "      <th>9</th>\n",
       "      <td>10</td>\n",
       "      <td>True</td>\n",
       "      <td>2</td>\n",
       "      <td>Nicholas (Adele Achem)</td>\n",
       "      <td>Mrs</td>\n",
       "      <td>female</td>\n",
       "      <td>14</td>\n",
       "      <td>1</td>\n",
       "      <td>0</td>\n",
       "      <td>237736</td>\n",
       "      <td>30.0708</td>\n",
       "      <td>NaN</td>\n",
       "      <td>C</td>\n",
       "    </tr>\n",
       "  </tbody>\n",
       "</table>\n",
       "</div>"
      ],
      "text/plain": [
       "   PassengerId  Survived Pclass                                   Name  \\\n",
       "0            1     False      3                            Owen Harris   \n",
       "1            2      True      1  John Bradley (Florence Briggs Thayer)   \n",
       "2            3      True      3                                  Laina   \n",
       "3            4      True      1          Jacques Heath (Lily May Peel)   \n",
       "4            5     False      3                          William Henry   \n",
       "5            6     False      3                                  James   \n",
       "6            7     False      1                              Timothy J   \n",
       "7            8     False      3                          Gosta Leonard   \n",
       "8            9      True      3    Oscar W (Elisabeth Vilhelmina Berg)   \n",
       "9           10      True      2                 Nicholas (Adele Achem)   \n",
       "\n",
       "    Title     Sex           Age  SibSp  Parch            Ticket     Fare  \\\n",
       "0      Mr    male            22      1      0         A/5 21171   7.2500   \n",
       "1     Mrs  female            38      1      0          PC 17599  71.2833   \n",
       "2    Miss  female            26      0      0  STON/O2. 3101282   7.9250   \n",
       "3     Mrs  female            35      1      0            113803  53.1000   \n",
       "4      Mr    male           NaN      0      0            373450   8.0500   \n",
       "5      Mr    male  thirty eight      0      0            330877   8.4583   \n",
       "6      Mr    male            54      0      0             17463  51.8625   \n",
       "7  Master    male           two      3      1            349909  21.0750   \n",
       "8     Mrs  female            27      0      2            347742  11.1333   \n",
       "9     Mrs  female            14      1      0            237736  30.0708   \n",
       "\n",
       "  Cabin Embarked  \n",
       "0   NaN        S  \n",
       "1   C85        C  \n",
       "2   NaN        S  \n",
       "3  C123        S  \n",
       "4   NaN        S  \n",
       "5   NaN        Q  \n",
       "6   E46        S  \n",
       "7   NaN        S  \n",
       "8   NaN        S  \n",
       "9   NaN        C  "
      ]
     },
     "execution_count": 262,
     "metadata": {},
     "output_type": "execute_result"
    }
   ],
   "source": [
    "df.head(10)"
   ]
  },
  {
   "cell_type": "code",
   "execution_count": 263,
   "id": "4f2ab2ce",
   "metadata": {},
   "outputs": [
    {
     "data": {
      "text/html": [
       "<div>\n",
       "<style scoped>\n",
       "    .dataframe tbody tr th:only-of-type {\n",
       "        vertical-align: middle;\n",
       "    }\n",
       "\n",
       "    .dataframe tbody tr th {\n",
       "        vertical-align: top;\n",
       "    }\n",
       "\n",
       "    .dataframe thead th {\n",
       "        text-align: right;\n",
       "    }\n",
       "</style>\n",
       "<table border=\"1\" class=\"dataframe\">\n",
       "  <thead>\n",
       "    <tr style=\"text-align: right;\">\n",
       "      <th></th>\n",
       "      <th>Title</th>\n",
       "      <th>Survived</th>\n",
       "    </tr>\n",
       "  </thead>\n",
       "  <tbody>\n",
       "    <tr>\n",
       "      <th>0</th>\n",
       "      <td></td>\n",
       "      <td>0.000000</td>\n",
       "    </tr>\n",
       "    <tr>\n",
       "      <th>1</th>\n",
       "      <td>Master</td>\n",
       "      <td>0.575000</td>\n",
       "    </tr>\n",
       "    <tr>\n",
       "      <th>2</th>\n",
       "      <td>Miss</td>\n",
       "      <td>0.701087</td>\n",
       "    </tr>\n",
       "    <tr>\n",
       "      <th>3</th>\n",
       "      <td>Mr</td>\n",
       "      <td>0.156673</td>\n",
       "    </tr>\n",
       "    <tr>\n",
       "      <th>4</th>\n",
       "      <td>Mrs</td>\n",
       "      <td>0.795276</td>\n",
       "    </tr>\n",
       "    <tr>\n",
       "      <th>5</th>\n",
       "      <td>Rare</td>\n",
       "      <td>0.380952</td>\n",
       "    </tr>\n",
       "  </tbody>\n",
       "</table>\n",
       "</div>"
      ],
      "text/plain": [
       "    Title  Survived\n",
       "0          0.000000\n",
       "1  Master  0.575000\n",
       "2    Miss  0.701087\n",
       "3      Mr  0.156673\n",
       "4     Mrs  0.795276\n",
       "5    Rare  0.380952"
      ]
     },
     "execution_count": 263,
     "metadata": {},
     "output_type": "execute_result"
    }
   ],
   "source": [
    "df.groupby('Title').agg({'Survived':'mean'}).reset_index()"
   ]
  },
  {
   "cell_type": "code",
   "execution_count": 264,
   "id": "604163e2",
   "metadata": {},
   "outputs": [
    {
     "name": "stdout",
     "output_type": "stream",
     "text": [
      "<class 'pandas.core.frame.DataFrame'>\n",
      "RangeIndex: 891 entries, 0 to 890\n",
      "Data columns (total 13 columns):\n",
      " #   Column       Non-Null Count  Dtype   \n",
      "---  ------       --------------  -----   \n",
      " 0   PassengerId  891 non-null    int32   \n",
      " 1   Survived     891 non-null    bool    \n",
      " 2   Pclass       891 non-null    category\n",
      " 3   Name         891 non-null    object  \n",
      " 4   Title        891 non-null    object  \n",
      " 5   Sex          891 non-null    object  \n",
      " 6   Age          714 non-null    object  \n",
      " 7   SibSp        891 non-null    int64   \n",
      " 8   Parch        891 non-null    int64   \n",
      " 9   Ticket       891 non-null    object  \n",
      " 10  Fare         891 non-null    float64 \n",
      " 11  Cabin        204 non-null    object  \n",
      " 12  Embarked     890 non-null    object  \n",
      "dtypes: bool(1), category(1), float64(1), int32(1), int64(2), object(7)\n",
      "memory usage: 75.1+ KB\n"
     ]
    }
   ],
   "source": [
    "df.info()"
   ]
  },
  {
   "cell_type": "code",
   "execution_count": 265,
   "id": "f24559f7",
   "metadata": {},
   "outputs": [],
   "source": [
    "df['Title'] = df['Title'].astype('category')"
   ]
  },
  {
   "cell_type": "code",
   "execution_count": 266,
   "id": "b2dc3de6",
   "metadata": {},
   "outputs": [
    {
     "data": {
      "text/html": [
       "<div>\n",
       "<style scoped>\n",
       "    .dataframe tbody tr th:only-of-type {\n",
       "        vertical-align: middle;\n",
       "    }\n",
       "\n",
       "    .dataframe tbody tr th {\n",
       "        vertical-align: top;\n",
       "    }\n",
       "\n",
       "    .dataframe thead th {\n",
       "        text-align: right;\n",
       "    }\n",
       "</style>\n",
       "<table border=\"1\" class=\"dataframe\">\n",
       "  <thead>\n",
       "    <tr style=\"text-align: right;\">\n",
       "      <th>Sex</th>\n",
       "      <th>female</th>\n",
       "      <th>male</th>\n",
       "    </tr>\n",
       "    <tr>\n",
       "      <th>Title</th>\n",
       "      <th></th>\n",
       "      <th></th>\n",
       "    </tr>\n",
       "  </thead>\n",
       "  <tbody>\n",
       "    <tr>\n",
       "      <th></th>\n",
       "      <td>0</td>\n",
       "      <td>2</td>\n",
       "    </tr>\n",
       "    <tr>\n",
       "      <th>Master</th>\n",
       "      <td>0</td>\n",
       "      <td>40</td>\n",
       "    </tr>\n",
       "    <tr>\n",
       "      <th>Miss</th>\n",
       "      <td>184</td>\n",
       "      <td>0</td>\n",
       "    </tr>\n",
       "    <tr>\n",
       "      <th>Mr</th>\n",
       "      <td>0</td>\n",
       "      <td>517</td>\n",
       "    </tr>\n",
       "    <tr>\n",
       "      <th>Mrs</th>\n",
       "      <td>127</td>\n",
       "      <td>0</td>\n",
       "    </tr>\n",
       "    <tr>\n",
       "      <th>Rare</th>\n",
       "      <td>3</td>\n",
       "      <td>18</td>\n",
       "    </tr>\n",
       "  </tbody>\n",
       "</table>\n",
       "</div>"
      ],
      "text/plain": [
       "Sex     female  male\n",
       "Title               \n",
       "             0     2\n",
       "Master       0    40\n",
       "Miss       184     0\n",
       "Mr           0   517\n",
       "Mrs        127     0\n",
       "Rare         3    18"
      ]
     },
     "execution_count": 266,
     "metadata": {},
     "output_type": "execute_result"
    }
   ],
   "source": [
    "pd.crosstab(df['Title'], df['Sex'])"
   ]
  },
  {
   "cell_type": "markdown",
   "id": "cd50bbbf",
   "metadata": {},
   "source": [
    "## Sex"
   ]
  },
  {
   "cell_type": "code",
   "execution_count": 267,
   "id": "5762b72f",
   "metadata": {},
   "outputs": [
    {
     "data": {
      "text/html": [
       "<div>\n",
       "<style scoped>\n",
       "    .dataframe tbody tr th:only-of-type {\n",
       "        vertical-align: middle;\n",
       "    }\n",
       "\n",
       "    .dataframe tbody tr th {\n",
       "        vertical-align: top;\n",
       "    }\n",
       "\n",
       "    .dataframe thead th {\n",
       "        text-align: right;\n",
       "    }\n",
       "</style>\n",
       "<table border=\"1\" class=\"dataframe\">\n",
       "  <thead>\n",
       "    <tr style=\"text-align: right;\">\n",
       "      <th></th>\n",
       "      <th>PassengerId</th>\n",
       "      <th>Survived</th>\n",
       "      <th>Pclass</th>\n",
       "      <th>Name</th>\n",
       "      <th>Title</th>\n",
       "      <th>Sex</th>\n",
       "      <th>Age</th>\n",
       "      <th>SibSp</th>\n",
       "      <th>Parch</th>\n",
       "      <th>Ticket</th>\n",
       "      <th>Fare</th>\n",
       "      <th>Cabin</th>\n",
       "      <th>Embarked</th>\n",
       "    </tr>\n",
       "  </thead>\n",
       "  <tbody>\n",
       "    <tr>\n",
       "      <th>0</th>\n",
       "      <td>1</td>\n",
       "      <td>False</td>\n",
       "      <td>3</td>\n",
       "      <td>Owen Harris</td>\n",
       "      <td>Mr</td>\n",
       "      <td>male</td>\n",
       "      <td>22</td>\n",
       "      <td>1</td>\n",
       "      <td>0</td>\n",
       "      <td>A/5 21171</td>\n",
       "      <td>7.2500</td>\n",
       "      <td>NaN</td>\n",
       "      <td>S</td>\n",
       "    </tr>\n",
       "    <tr>\n",
       "      <th>1</th>\n",
       "      <td>2</td>\n",
       "      <td>True</td>\n",
       "      <td>1</td>\n",
       "      <td>John Bradley (Florence Briggs Thayer)</td>\n",
       "      <td>Mrs</td>\n",
       "      <td>female</td>\n",
       "      <td>38</td>\n",
       "      <td>1</td>\n",
       "      <td>0</td>\n",
       "      <td>PC 17599</td>\n",
       "      <td>71.2833</td>\n",
       "      <td>C85</td>\n",
       "      <td>C</td>\n",
       "    </tr>\n",
       "    <tr>\n",
       "      <th>2</th>\n",
       "      <td>3</td>\n",
       "      <td>True</td>\n",
       "      <td>3</td>\n",
       "      <td>Laina</td>\n",
       "      <td>Miss</td>\n",
       "      <td>female</td>\n",
       "      <td>26</td>\n",
       "      <td>0</td>\n",
       "      <td>0</td>\n",
       "      <td>STON/O2. 3101282</td>\n",
       "      <td>7.9250</td>\n",
       "      <td>NaN</td>\n",
       "      <td>S</td>\n",
       "    </tr>\n",
       "    <tr>\n",
       "      <th>3</th>\n",
       "      <td>4</td>\n",
       "      <td>True</td>\n",
       "      <td>1</td>\n",
       "      <td>Jacques Heath (Lily May Peel)</td>\n",
       "      <td>Mrs</td>\n",
       "      <td>female</td>\n",
       "      <td>35</td>\n",
       "      <td>1</td>\n",
       "      <td>0</td>\n",
       "      <td>113803</td>\n",
       "      <td>53.1000</td>\n",
       "      <td>C123</td>\n",
       "      <td>S</td>\n",
       "    </tr>\n",
       "    <tr>\n",
       "      <th>4</th>\n",
       "      <td>5</td>\n",
       "      <td>False</td>\n",
       "      <td>3</td>\n",
       "      <td>William Henry</td>\n",
       "      <td>Mr</td>\n",
       "      <td>male</td>\n",
       "      <td>NaN</td>\n",
       "      <td>0</td>\n",
       "      <td>0</td>\n",
       "      <td>373450</td>\n",
       "      <td>8.0500</td>\n",
       "      <td>NaN</td>\n",
       "      <td>S</td>\n",
       "    </tr>\n",
       "  </tbody>\n",
       "</table>\n",
       "</div>"
      ],
      "text/plain": [
       "   PassengerId  Survived Pclass                                   Name Title  \\\n",
       "0            1     False      3                            Owen Harris    Mr   \n",
       "1            2      True      1  John Bradley (Florence Briggs Thayer)   Mrs   \n",
       "2            3      True      3                                  Laina  Miss   \n",
       "3            4      True      1          Jacques Heath (Lily May Peel)   Mrs   \n",
       "4            5     False      3                          William Henry    Mr   \n",
       "\n",
       "      Sex  Age  SibSp  Parch            Ticket     Fare Cabin Embarked  \n",
       "0    male   22      1      0         A/5 21171   7.2500   NaN        S  \n",
       "1  female   38      1      0          PC 17599  71.2833   C85        C  \n",
       "2  female   26      0      0  STON/O2. 3101282   7.9250   NaN        S  \n",
       "3  female   35      1      0            113803  53.1000  C123        S  \n",
       "4    male  NaN      0      0            373450   8.0500   NaN        S  "
      ]
     },
     "execution_count": 267,
     "metadata": {},
     "output_type": "execute_result"
    }
   ],
   "source": [
    "df.head()"
   ]
  },
  {
   "cell_type": "code",
   "execution_count": 268,
   "id": "7cbee7fc",
   "metadata": {},
   "outputs": [
    {
     "data": {
      "text/plain": [
       "1       True\n",
       "2       True\n",
       "3       True\n",
       "8       True\n",
       "9       True\n",
       "       ...  \n",
       "880     True\n",
       "882    False\n",
       "885    False\n",
       "887     True\n",
       "888    False\n",
       "Name: Survived, Length: 314, dtype: bool"
      ]
     },
     "execution_count": 268,
     "metadata": {},
     "output_type": "execute_result"
    }
   ],
   "source": [
    "women = df.loc[df['Sex'] == 'female']['Survived']\n",
    "women"
   ]
  },
  {
   "cell_type": "code",
   "execution_count": 269,
   "id": "64da74c4",
   "metadata": {},
   "outputs": [
    {
     "data": {
      "text/plain": [
       "0.7420382165605095"
      ]
     },
     "execution_count": 269,
     "metadata": {},
     "output_type": "execute_result"
    }
   ],
   "source": [
    "# % of women who survived\n",
    "sum(women)/len(women)"
   ]
  },
  {
   "cell_type": "code",
   "execution_count": 270,
   "id": "940cc86d",
   "metadata": {},
   "outputs": [
    {
     "data": {
      "text/plain": [
       "0.18890814558058924"
      ]
     },
     "execution_count": 270,
     "metadata": {},
     "output_type": "execute_result"
    }
   ],
   "source": [
    "# % of men who survived\n",
    "sum(df.loc[df['Sex']=='male']['Survived'])/len(df.loc[df['Sex']=='male']['Survived'])"
   ]
  },
  {
   "cell_type": "code",
   "execution_count": 271,
   "id": "44349c43",
   "metadata": {},
   "outputs": [],
   "source": [
    "df['Sex'] = df['Sex'].astype('category')"
   ]
  },
  {
   "cell_type": "code",
   "execution_count": 272,
   "id": "db9c15d5",
   "metadata": {},
   "outputs": [
    {
     "name": "stdout",
     "output_type": "stream",
     "text": [
      "<class 'pandas.core.frame.DataFrame'>\n",
      "RangeIndex: 891 entries, 0 to 890\n",
      "Data columns (total 13 columns):\n",
      " #   Column       Non-Null Count  Dtype   \n",
      "---  ------       --------------  -----   \n",
      " 0   PassengerId  891 non-null    int32   \n",
      " 1   Survived     891 non-null    bool    \n",
      " 2   Pclass       891 non-null    category\n",
      " 3   Name         891 non-null    object  \n",
      " 4   Title        891 non-null    category\n",
      " 5   Sex          891 non-null    category\n",
      " 6   Age          714 non-null    object  \n",
      " 7   SibSp        891 non-null    int64   \n",
      " 8   Parch        891 non-null    int64   \n",
      " 9   Ticket       891 non-null    object  \n",
      " 10  Fare         891 non-null    float64 \n",
      " 11  Cabin        204 non-null    object  \n",
      " 12  Embarked     890 non-null    object  \n",
      "dtypes: bool(1), category(3), float64(1), int32(1), int64(2), object(5)\n",
      "memory usage: 63.2+ KB\n"
     ]
    }
   ],
   "source": [
    "df.info()"
   ]
  },
  {
   "cell_type": "markdown",
   "id": "7654ef92",
   "metadata": {},
   "source": [
    "## Age"
   ]
  },
  {
   "cell_type": "code",
   "execution_count": 273,
   "id": "8323b04a",
   "metadata": {},
   "outputs": [
    {
     "data": {
      "text/plain": [
       "177"
      ]
     },
     "execution_count": 273,
     "metadata": {},
     "output_type": "execute_result"
    }
   ],
   "source": [
    "df['Age'].isnull().sum()"
   ]
  },
  {
   "cell_type": "code",
   "execution_count": 274,
   "id": "006d8aaf",
   "metadata": {},
   "outputs": [
    {
     "data": {
      "text/plain": [
       "array([22, 38, 26, 35, nan, 'thirty eight', 54, 'two', 27, 14, 'four', 58,\n",
       "       20, 'thirty nine', 55, 2, 31, 34, 15, 28, 8, 19, 40, 66, 42, 21,\n",
       "       18, 3, 7, 49, 29, 65, 28.5, 5, 11, 45, 4, 17, 32, 16, 25, 0.83, 30,\n",
       "       33, 23, 24, 46, 59, 71, 37, 47, 14.5, 70.5, 32.5, 12, 9, 36.5, 51,\n",
       "       55.5, 40.5, 44, 1, 61, 56, 50, 36, 45.5, 20.5, 62, 41, 52, 63,\n",
       "       23.5, 0.92, 43, 60, 39, 10, 64, 13, 48, 0.75, 53, 57, 80, 70, 24.5,\n",
       "       6, 0.67, 30.5, 0.42, 34.5, 74], dtype=object)"
      ]
     },
     "execution_count": 274,
     "metadata": {},
     "output_type": "execute_result"
    }
   ],
   "source": [
    "df['Age'].unique()"
   ]
  },
  {
   "cell_type": "code",
   "execution_count": 275,
   "id": "798db98d",
   "metadata": {},
   "outputs": [],
   "source": [
    "df['Age'] = pd.to_numeric(df['Age'], errors='coerce')"
   ]
  },
  {
   "cell_type": "code",
   "execution_count": 276,
   "id": "a4f21017",
   "metadata": {},
   "outputs": [
    {
     "data": {
      "text/plain": [
       "array([22.  , 38.  , 26.  , 35.  ,   nan, 54.  , 27.  , 14.  , 58.  ,\n",
       "       20.  , 55.  ,  2.  , 31.  , 34.  , 15.  , 28.  ,  8.  , 19.  ,\n",
       "       40.  , 66.  , 42.  , 21.  , 18.  ,  3.  ,  7.  , 49.  , 29.  ,\n",
       "       65.  , 28.5 ,  5.  , 11.  , 45.  ,  4.  , 17.  , 32.  , 16.  ,\n",
       "       25.  ,  0.83, 30.  , 33.  , 23.  , 24.  , 46.  , 59.  , 71.  ,\n",
       "       37.  , 47.  , 14.5 , 70.5 , 32.5 , 12.  ,  9.  , 36.5 , 51.  ,\n",
       "       55.5 , 40.5 , 44.  ,  1.  , 61.  , 56.  , 50.  , 36.  , 45.5 ,\n",
       "       20.5 , 62.  , 41.  , 52.  , 63.  , 23.5 ,  0.92, 43.  , 60.  ,\n",
       "       39.  , 10.  , 64.  , 13.  , 48.  ,  0.75, 53.  , 57.  , 80.  ,\n",
       "       70.  , 24.5 ,  6.  ,  0.67, 30.5 ,  0.42, 34.5 , 74.  ])"
      ]
     },
     "execution_count": 276,
     "metadata": {},
     "output_type": "execute_result"
    }
   ],
   "source": [
    "df['Age'].unique()"
   ]
  },
  {
   "cell_type": "code",
   "execution_count": 277,
   "id": "47f905c6",
   "metadata": {},
   "outputs": [
    {
     "data": {
      "text/plain": [
       "0.42"
      ]
     },
     "execution_count": 277,
     "metadata": {},
     "output_type": "execute_result"
    }
   ],
   "source": [
    "df['Age'].min()"
   ]
  },
  {
   "cell_type": "code",
   "execution_count": 278,
   "id": "cd22a8a0",
   "metadata": {},
   "outputs": [
    {
     "data": {
      "text/plain": [
       "80.0"
      ]
     },
     "execution_count": 278,
     "metadata": {},
     "output_type": "execute_result"
    }
   ],
   "source": [
    "df['Age'].max()"
   ]
  },
  {
   "cell_type": "code",
   "execution_count": 279,
   "id": "1c34c4dd",
   "metadata": {},
   "outputs": [
    {
     "data": {
      "text/plain": [
       "29.75376056338028"
      ]
     },
     "execution_count": 279,
     "metadata": {},
     "output_type": "execute_result"
    }
   ],
   "source": [
    "df['Age'].mean()"
   ]
  },
  {
   "cell_type": "code",
   "execution_count": 280,
   "id": "e487200b",
   "metadata": {},
   "outputs": [],
   "source": [
    "df['Age'] = df['Age'].fillna(df['Age'].mean())"
   ]
  },
  {
   "cell_type": "code",
   "execution_count": 281,
   "id": "504b8e0f",
   "metadata": {},
   "outputs": [
    {
     "data": {
      "text/plain": [
       "array([22.        , 38.        , 26.        , 35.        , 29.75376056,\n",
       "       54.        , 27.        , 14.        , 58.        , 20.        ,\n",
       "       55.        ,  2.        , 31.        , 34.        , 15.        ,\n",
       "       28.        ,  8.        , 19.        , 40.        , 66.        ,\n",
       "       42.        , 21.        , 18.        ,  3.        ,  7.        ,\n",
       "       49.        , 29.        , 65.        , 28.5       ,  5.        ,\n",
       "       11.        , 45.        ,  4.        , 17.        , 32.        ,\n",
       "       16.        , 25.        ,  0.83      , 30.        , 33.        ,\n",
       "       23.        , 24.        , 46.        , 59.        , 71.        ,\n",
       "       37.        , 47.        , 14.5       , 70.5       , 32.5       ,\n",
       "       12.        ,  9.        , 36.5       , 51.        , 55.5       ,\n",
       "       40.5       , 44.        ,  1.        , 61.        , 56.        ,\n",
       "       50.        , 36.        , 45.5       , 20.5       , 62.        ,\n",
       "       41.        , 52.        , 63.        , 23.5       ,  0.92      ,\n",
       "       43.        , 60.        , 39.        , 10.        , 64.        ,\n",
       "       13.        , 48.        ,  0.75      , 53.        , 57.        ,\n",
       "       80.        , 70.        , 24.5       ,  6.        ,  0.67      ,\n",
       "       30.5       ,  0.42      , 34.5       , 74.        ])"
      ]
     },
     "execution_count": 281,
     "metadata": {},
     "output_type": "execute_result"
    }
   ],
   "source": [
    "df['Age'].unique()"
   ]
  },
  {
   "cell_type": "code",
   "execution_count": 282,
   "id": "095484bb",
   "metadata": {},
   "outputs": [
    {
     "data": {
      "text/html": [
       "<div>\n",
       "<style scoped>\n",
       "    .dataframe tbody tr th:only-of-type {\n",
       "        vertical-align: middle;\n",
       "    }\n",
       "\n",
       "    .dataframe tbody tr th {\n",
       "        vertical-align: top;\n",
       "    }\n",
       "\n",
       "    .dataframe thead th {\n",
       "        text-align: right;\n",
       "    }\n",
       "</style>\n",
       "<table border=\"1\" class=\"dataframe\">\n",
       "  <thead>\n",
       "    <tr style=\"text-align: right;\">\n",
       "      <th></th>\n",
       "      <th>PassengerId</th>\n",
       "      <th>Survived</th>\n",
       "      <th>Pclass</th>\n",
       "      <th>Name</th>\n",
       "      <th>Title</th>\n",
       "      <th>Sex</th>\n",
       "      <th>Age</th>\n",
       "      <th>SibSp</th>\n",
       "      <th>Parch</th>\n",
       "      <th>Ticket</th>\n",
       "      <th>Fare</th>\n",
       "      <th>Cabin</th>\n",
       "      <th>Embarked</th>\n",
       "    </tr>\n",
       "  </thead>\n",
       "  <tbody>\n",
       "    <tr>\n",
       "      <th>4</th>\n",
       "      <td>5</td>\n",
       "      <td>False</td>\n",
       "      <td>3</td>\n",
       "      <td>William Henry</td>\n",
       "      <td>Mr</td>\n",
       "      <td>male</td>\n",
       "      <td>29.753761</td>\n",
       "      <td>0</td>\n",
       "      <td>0</td>\n",
       "      <td>373450</td>\n",
       "      <td>8.0500</td>\n",
       "      <td>NaN</td>\n",
       "      <td>S</td>\n",
       "    </tr>\n",
       "    <tr>\n",
       "      <th>5</th>\n",
       "      <td>6</td>\n",
       "      <td>False</td>\n",
       "      <td>3</td>\n",
       "      <td>James</td>\n",
       "      <td>Mr</td>\n",
       "      <td>male</td>\n",
       "      <td>29.753761</td>\n",
       "      <td>0</td>\n",
       "      <td>0</td>\n",
       "      <td>330877</td>\n",
       "      <td>8.4583</td>\n",
       "      <td>NaN</td>\n",
       "      <td>Q</td>\n",
       "    </tr>\n",
       "    <tr>\n",
       "      <th>7</th>\n",
       "      <td>8</td>\n",
       "      <td>False</td>\n",
       "      <td>3</td>\n",
       "      <td>Gosta Leonard</td>\n",
       "      <td>Master</td>\n",
       "      <td>male</td>\n",
       "      <td>29.753761</td>\n",
       "      <td>3</td>\n",
       "      <td>1</td>\n",
       "      <td>349909</td>\n",
       "      <td>21.0750</td>\n",
       "      <td>NaN</td>\n",
       "      <td>S</td>\n",
       "    </tr>\n",
       "    <tr>\n",
       "      <th>10</th>\n",
       "      <td>11</td>\n",
       "      <td>True</td>\n",
       "      <td>3</td>\n",
       "      <td>Marguerite Rut</td>\n",
       "      <td>Miss</td>\n",
       "      <td>female</td>\n",
       "      <td>29.753761</td>\n",
       "      <td>1</td>\n",
       "      <td>1</td>\n",
       "      <td>PP 9549</td>\n",
       "      <td>16.7000</td>\n",
       "      <td>G6</td>\n",
       "      <td>S</td>\n",
       "    </tr>\n",
       "    <tr>\n",
       "      <th>13</th>\n",
       "      <td>14</td>\n",
       "      <td>False</td>\n",
       "      <td>3</td>\n",
       "      <td>Anders Johan</td>\n",
       "      <td>Mr</td>\n",
       "      <td>male</td>\n",
       "      <td>29.753761</td>\n",
       "      <td>1</td>\n",
       "      <td>5</td>\n",
       "      <td>347082</td>\n",
       "      <td>31.2750</td>\n",
       "      <td>NaN</td>\n",
       "      <td>S</td>\n",
       "    </tr>\n",
       "    <tr>\n",
       "      <th>...</th>\n",
       "      <td>...</td>\n",
       "      <td>...</td>\n",
       "      <td>...</td>\n",
       "      <td>...</td>\n",
       "      <td>...</td>\n",
       "      <td>...</td>\n",
       "      <td>...</td>\n",
       "      <td>...</td>\n",
       "      <td>...</td>\n",
       "      <td>...</td>\n",
       "      <td>...</td>\n",
       "      <td>...</td>\n",
       "      <td>...</td>\n",
       "    </tr>\n",
       "    <tr>\n",
       "      <th>859</th>\n",
       "      <td>860</td>\n",
       "      <td>False</td>\n",
       "      <td>3</td>\n",
       "      <td>Raihed</td>\n",
       "      <td>Mr</td>\n",
       "      <td>male</td>\n",
       "      <td>29.753761</td>\n",
       "      <td>0</td>\n",
       "      <td>0</td>\n",
       "      <td>2629</td>\n",
       "      <td>7.2292</td>\n",
       "      <td>NaN</td>\n",
       "      <td>C</td>\n",
       "    </tr>\n",
       "    <tr>\n",
       "      <th>863</th>\n",
       "      <td>864</td>\n",
       "      <td>False</td>\n",
       "      <td>3</td>\n",
       "      <td>Dorothy Edith \"Dolly\"</td>\n",
       "      <td>Miss</td>\n",
       "      <td>female</td>\n",
       "      <td>29.753761</td>\n",
       "      <td>8</td>\n",
       "      <td>2</td>\n",
       "      <td>CA. 2343</td>\n",
       "      <td>69.5500</td>\n",
       "      <td>NaN</td>\n",
       "      <td>S</td>\n",
       "    </tr>\n",
       "    <tr>\n",
       "      <th>868</th>\n",
       "      <td>869</td>\n",
       "      <td>False</td>\n",
       "      <td>3</td>\n",
       "      <td>Philemon</td>\n",
       "      <td>Mr</td>\n",
       "      <td>male</td>\n",
       "      <td>29.753761</td>\n",
       "      <td>0</td>\n",
       "      <td>0</td>\n",
       "      <td>345777</td>\n",
       "      <td>9.5000</td>\n",
       "      <td>NaN</td>\n",
       "      <td>S</td>\n",
       "    </tr>\n",
       "    <tr>\n",
       "      <th>878</th>\n",
       "      <td>879</td>\n",
       "      <td>False</td>\n",
       "      <td>3</td>\n",
       "      <td>Kristo</td>\n",
       "      <td>Mr</td>\n",
       "      <td>male</td>\n",
       "      <td>29.753761</td>\n",
       "      <td>0</td>\n",
       "      <td>0</td>\n",
       "      <td>349217</td>\n",
       "      <td>7.8958</td>\n",
       "      <td>NaN</td>\n",
       "      <td>S</td>\n",
       "    </tr>\n",
       "    <tr>\n",
       "      <th>888</th>\n",
       "      <td>889</td>\n",
       "      <td>False</td>\n",
       "      <td>3</td>\n",
       "      <td>Catherine Helen \"Carrie\"</td>\n",
       "      <td>Miss</td>\n",
       "      <td>female</td>\n",
       "      <td>29.753761</td>\n",
       "      <td>1</td>\n",
       "      <td>2</td>\n",
       "      <td>W./C. 6607</td>\n",
       "      <td>23.4500</td>\n",
       "      <td>NaN</td>\n",
       "      <td>S</td>\n",
       "    </tr>\n",
       "  </tbody>\n",
       "</table>\n",
       "<p>206 rows × 13 columns</p>\n",
       "</div>"
      ],
      "text/plain": [
       "     PassengerId  Survived Pclass                      Name   Title     Sex  \\\n",
       "4              5     False      3             William Henry      Mr    male   \n",
       "5              6     False      3                     James      Mr    male   \n",
       "7              8     False      3             Gosta Leonard  Master    male   \n",
       "10            11      True      3            Marguerite Rut    Miss  female   \n",
       "13            14     False      3              Anders Johan      Mr    male   \n",
       "..           ...       ...    ...                       ...     ...     ...   \n",
       "859          860     False      3                    Raihed      Mr    male   \n",
       "863          864     False      3     Dorothy Edith \"Dolly\"    Miss  female   \n",
       "868          869     False      3                  Philemon      Mr    male   \n",
       "878          879     False      3                    Kristo      Mr    male   \n",
       "888          889     False      3  Catherine Helen \"Carrie\"    Miss  female   \n",
       "\n",
       "           Age  SibSp  Parch      Ticket     Fare Cabin Embarked  \n",
       "4    29.753761      0      0      373450   8.0500   NaN        S  \n",
       "5    29.753761      0      0      330877   8.4583   NaN        Q  \n",
       "7    29.753761      3      1      349909  21.0750   NaN        S  \n",
       "10   29.753761      1      1     PP 9549  16.7000    G6        S  \n",
       "13   29.753761      1      5      347082  31.2750   NaN        S  \n",
       "..         ...    ...    ...         ...      ...   ...      ...  \n",
       "859  29.753761      0      0        2629   7.2292   NaN        C  \n",
       "863  29.753761      8      2    CA. 2343  69.5500   NaN        S  \n",
       "868  29.753761      0      0      345777   9.5000   NaN        S  \n",
       "878  29.753761      0      0      349217   7.8958   NaN        S  \n",
       "888  29.753761      1      2  W./C. 6607  23.4500   NaN        S  \n",
       "\n",
       "[206 rows x 13 columns]"
      ]
     },
     "execution_count": 282,
     "metadata": {},
     "output_type": "execute_result"
    }
   ],
   "source": [
    "df[(~df['Age'].isna())&(df['Age']%1!=0)]"
   ]
  },
  {
   "cell_type": "code",
   "execution_count": 283,
   "id": "b499860f",
   "metadata": {},
   "outputs": [],
   "source": [
    "df['Age'] = df['Age'].apply(np.ceil)\n",
    "df['Age'] = df['Age'].astype('int32')"
   ]
  },
  {
   "cell_type": "code",
   "execution_count": 284,
   "id": "39e159f5",
   "metadata": {},
   "outputs": [
    {
     "data": {
      "text/plain": [
       "array([22, 38, 26, 35, 30, 54, 27, 14, 58, 20, 55,  2, 31, 34, 15, 28,  8,\n",
       "       19, 40, 66, 42, 21, 18,  3,  7, 49, 29, 65,  5, 11, 45,  4, 17, 32,\n",
       "       16, 25,  1, 33, 23, 24, 46, 59, 71, 37, 47, 12,  9, 51, 56, 41, 44,\n",
       "       61, 50, 36, 62, 52, 63, 43, 60, 39, 10, 64, 13, 48, 53, 57, 80, 70,\n",
       "        6, 74])"
      ]
     },
     "execution_count": 284,
     "metadata": {},
     "output_type": "execute_result"
    }
   ],
   "source": [
    "df['Age'].unique()"
   ]
  },
  {
   "cell_type": "code",
   "execution_count": 285,
   "id": "ce037f36",
   "metadata": {},
   "outputs": [
    {
     "name": "stdout",
     "output_type": "stream",
     "text": [
      "<class 'pandas.core.frame.DataFrame'>\n",
      "RangeIndex: 891 entries, 0 to 890\n",
      "Data columns (total 13 columns):\n",
      " #   Column       Non-Null Count  Dtype   \n",
      "---  ------       --------------  -----   \n",
      " 0   PassengerId  891 non-null    int32   \n",
      " 1   Survived     891 non-null    bool    \n",
      " 2   Pclass       891 non-null    category\n",
      " 3   Name         891 non-null    object  \n",
      " 4   Title        891 non-null    category\n",
      " 5   Sex          891 non-null    category\n",
      " 6   Age          891 non-null    int32   \n",
      " 7   SibSp        891 non-null    int64   \n",
      " 8   Parch        891 non-null    int64   \n",
      " 9   Ticket       891 non-null    object  \n",
      " 10  Fare         891 non-null    float64 \n",
      " 11  Cabin        204 non-null    object  \n",
      " 12  Embarked     890 non-null    object  \n",
      "dtypes: bool(1), category(3), float64(1), int32(2), int64(2), object(4)\n",
      "memory usage: 59.8+ KB\n"
     ]
    }
   ],
   "source": [
    "df.info()"
   ]
  },
  {
   "cell_type": "markdown",
   "id": "a86e7bad",
   "metadata": {},
   "source": [
    "## SibSp, Parch"
   ]
  },
  {
   "cell_type": "code",
   "execution_count": 286,
   "id": "1c751e2d",
   "metadata": {},
   "outputs": [],
   "source": [
    "# SibSp - number of siblings the passanger had\n",
    "# Parch number of children the passanger had"
   ]
  },
  {
   "cell_type": "code",
   "execution_count": 287,
   "id": "3986e955",
   "metadata": {},
   "outputs": [
    {
     "data": {
      "text/plain": [
       "SibSp\n",
       "0    608\n",
       "1    209\n",
       "2     28\n",
       "4     18\n",
       "3     16\n",
       "8      7\n",
       "5      5\n",
       "Name: count, dtype: int64"
      ]
     },
     "execution_count": 287,
     "metadata": {},
     "output_type": "execute_result"
    }
   ],
   "source": [
    "df['SibSp'].value_counts()"
   ]
  },
  {
   "cell_type": "code",
   "execution_count": 288,
   "id": "48c187df",
   "metadata": {},
   "outputs": [
    {
     "data": {
      "text/plain": [
       "Parch\n",
       "0    678\n",
       "1    118\n",
       "2     80\n",
       "5      5\n",
       "3      5\n",
       "4      4\n",
       "6      1\n",
       "Name: count, dtype: int64"
      ]
     },
     "execution_count": 288,
     "metadata": {},
     "output_type": "execute_result"
    }
   ],
   "source": [
    "df['Parch'].value_counts()"
   ]
  },
  {
   "cell_type": "code",
   "execution_count": 289,
   "id": "1fb53eb2",
   "metadata": {},
   "outputs": [
    {
     "data": {
      "text/html": [
       "<div>\n",
       "<style scoped>\n",
       "    .dataframe tbody tr th:only-of-type {\n",
       "        vertical-align: middle;\n",
       "    }\n",
       "\n",
       "    .dataframe tbody tr th {\n",
       "        vertical-align: top;\n",
       "    }\n",
       "\n",
       "    .dataframe thead th {\n",
       "        text-align: right;\n",
       "    }\n",
       "</style>\n",
       "<table border=\"1\" class=\"dataframe\">\n",
       "  <thead>\n",
       "    <tr style=\"text-align: right;\">\n",
       "      <th></th>\n",
       "      <th>PassengerId</th>\n",
       "      <th>Survived</th>\n",
       "      <th>Pclass</th>\n",
       "      <th>Name</th>\n",
       "      <th>Title</th>\n",
       "      <th>Sex</th>\n",
       "      <th>Age</th>\n",
       "      <th>SibSp</th>\n",
       "      <th>Parch</th>\n",
       "      <th>Ticket</th>\n",
       "      <th>Fare</th>\n",
       "      <th>Cabin</th>\n",
       "      <th>Embarked</th>\n",
       "    </tr>\n",
       "  </thead>\n",
       "  <tbody>\n",
       "    <tr>\n",
       "      <th>678</th>\n",
       "      <td>679</td>\n",
       "      <td>False</td>\n",
       "      <td>3</td>\n",
       "      <td>Frederick (Augusta Tyler)</td>\n",
       "      <td>Mrs</td>\n",
       "      <td>female</td>\n",
       "      <td>43</td>\n",
       "      <td>1</td>\n",
       "      <td>6</td>\n",
       "      <td>CA 2144</td>\n",
       "      <td>46.9</td>\n",
       "      <td>NaN</td>\n",
       "      <td>S</td>\n",
       "    </tr>\n",
       "  </tbody>\n",
       "</table>\n",
       "</div>"
      ],
      "text/plain": [
       "     PassengerId  Survived Pclass                       Name Title     Sex  \\\n",
       "678          679     False      3  Frederick (Augusta Tyler)   Mrs  female   \n",
       "\n",
       "     Age  SibSp  Parch   Ticket  Fare Cabin Embarked  \n",
       "678   43      1      6  CA 2144  46.9   NaN        S  "
      ]
     },
     "execution_count": 289,
     "metadata": {},
     "output_type": "execute_result"
    }
   ],
   "source": [
    "#checking if passenger who had six kids survived\n",
    "df[df['Parch']==6]"
   ]
  },
  {
   "cell_type": "code",
   "execution_count": 290,
   "id": "d094ec2a",
   "metadata": {},
   "outputs": [],
   "source": [
    "df['SibSp'] = df['SibSp'].astype('int32')\n",
    "df['Parch'] = df['Parch'].astype('int32')"
   ]
  },
  {
   "cell_type": "code",
   "execution_count": 291,
   "id": "2c1bcf97",
   "metadata": {},
   "outputs": [
    {
     "name": "stdout",
     "output_type": "stream",
     "text": [
      "<class 'pandas.core.frame.DataFrame'>\n",
      "RangeIndex: 891 entries, 0 to 890\n",
      "Data columns (total 13 columns):\n",
      " #   Column       Non-Null Count  Dtype   \n",
      "---  ------       --------------  -----   \n",
      " 0   PassengerId  891 non-null    int32   \n",
      " 1   Survived     891 non-null    bool    \n",
      " 2   Pclass       891 non-null    category\n",
      " 3   Name         891 non-null    object  \n",
      " 4   Title        891 non-null    category\n",
      " 5   Sex          891 non-null    category\n",
      " 6   Age          891 non-null    int32   \n",
      " 7   SibSp        891 non-null    int32   \n",
      " 8   Parch        891 non-null    int32   \n",
      " 9   Ticket       891 non-null    object  \n",
      " 10  Fare         891 non-null    float64 \n",
      " 11  Cabin        204 non-null    object  \n",
      " 12  Embarked     890 non-null    object  \n",
      "dtypes: bool(1), category(3), float64(1), int32(4), object(4)\n",
      "memory usage: 52.8+ KB\n"
     ]
    }
   ],
   "source": [
    "df.info()"
   ]
  },
  {
   "cell_type": "markdown",
   "id": "4adb06df",
   "metadata": {},
   "source": [
    "## Ticket"
   ]
  },
  {
   "cell_type": "code",
   "execution_count": 292,
   "id": "21c82a7b",
   "metadata": {},
   "outputs": [
    {
     "data": {
      "text/plain": [
       "array(['A/5 21171', 'PC 17599', 'STON/O2. 3101282', 113803, 373450,\n",
       "       330877, 17463, 349909, 347742, 237736, 'PP 9549', 113783,\n",
       "       'A/5. 2151', 347082, 350406, 248706, 382652, 244373, 345763, 2649,\n",
       "       239865, 248698, 330923, 113788, 347077, 2631, 19950, 330959,\n",
       "       349216, 'PC 17601', 'PC 17569', 335677, 'C.A. 24579', 'PC 17604',\n",
       "       113789, 2677, 'A./5. 2152', 345764, 2651, 7546, 11668, 349253,\n",
       "       'SC/Paris 2123', 330958, 'S.C./A.4. 23567', 370371, 14311, 2662,\n",
       "       349237, 3101295, 'A/4. 39886', 'PC 17572', 2926, 113509, 19947,\n",
       "       'C.A. 31026', 2697, 'C.A. 34651', 'CA 2144', 2669, 113572, 36973,\n",
       "       347088, 'PC 17605', 2661, 'C.A. 29395', 'S.P. 3464', 3101281,\n",
       "       315151, 'C.A. 33111', 'S.O.C. 14879', 2680, 1601, 348123, 349208,\n",
       "       374746, 248738, 364516, 345767, 345779, 330932, 113059,\n",
       "       'SO/C 14885', 3101278, 'W./C. 6608', 'SOTON/OQ 392086', 343275,\n",
       "       343276, 347466, 'W.E.P. 5734', 'C.A. 2315', 364500, 374910,\n",
       "       'PC 17754', 'PC 17759', 231919, 244367, 349245, 349215, 35281,\n",
       "       7540, 3101276, 349207, 343120, 312991, 349249, 371110, 110465,\n",
       "       2665, 324669, 4136, 2627, 'STON/O 2. 3101294', 370369, 'PC 17558',\n",
       "       'A4. 54510', 27267, 370372, 'C 17369', 2668, 347061, 349241,\n",
       "       'SOTON/O.Q. 3101307', 'A/5. 3337', 228414, 'C.A. 29178',\n",
       "       'SC/PARIS 2133', 11752, 7534, 'PC 17593', 2678, 347081,\n",
       "       'STON/O2. 3101279', 365222, 231945, 'C.A. 33112', 350043, 230080,\n",
       "       244310, 'S.O.P. 1166', 113776, 'A.5. 11206', 'A/5. 851',\n",
       "       'Fa 265302', 'PC 17597', 35851, 'SOTON/OQ 392090', 315037,\n",
       "       'CA. 2343', 371362, 'C.A. 33595', 347068, 315093, 363291, 113505,\n",
       "       'PC 17318', 111240, 'STON/O 2. 3101280', 17764, 350404, 4133,\n",
       "       'PC 17595', 250653, 'LINE', 'SC/PARIS 2131', 230136, 315153,\n",
       "       113767, 370365, 111428, 364849, 349247, 234604, 28424, 350046,\n",
       "       'PC 17610', 368703, 4579, 370370, 248747, 345770, 3101264, 2628,\n",
       "       'A/5 3540', 347054, 2699, 367231, 112277, 'SOTON/O.Q. 3101311',\n",
       "       'F.C.C. 13528', 'A/5 21174', 250646, 367229, 35273,\n",
       "       'STON/O2. 3101283', 243847, 11813, 'W/C 14208', 'SOTON/OQ 392089',\n",
       "       220367, 21440, 349234, 19943, 'PP 4348', 'SW/PP 751', 'A/5 21173',\n",
       "       236171, 347067, 237442, 'C.A. 29566', 'W./C. 6609', 26707,\n",
       "       'C.A. 31921', 28665, 'SCO/W 1585', 367230, 'W./C. 14263',\n",
       "       'STON/O 2. 3101275', 2694, 19928, 347071, 250649, 11751, 244252,\n",
       "       362316, 113514, 'A/5. 3336', 370129, 2650, 'PC 17585', 110152,\n",
       "       'PC 17755', 230433, 384461, 110413, 112059, 382649, 'C.A. 17248',\n",
       "       347083, 'PC 17582', 'PC 17760', 113798, 250644, 'PC 17596', 370375,\n",
       "       13502, 347073, 239853, 'C.A. 2673', 336439, 347464, 345778,\n",
       "       'A/5. 10482', 113056, 349239, 345774, 349206, 237798, 370373,\n",
       "       19877, 11967, 'SC/Paris 2163', 349236, 349233, 'PC 17612', 2693,\n",
       "       113781, 19988, 9234, 367226, 226593, 'A/5 2466', 17421, 'PC 17758',\n",
       "       'P/PP 3381', 'PC 17485', 11767, 'PC 17608', 250651, 349243,\n",
       "       'F.C.C. 13529', 347470, 29011, 36928, 16966, 'A/5 21172', 349219,\n",
       "       234818, 345364, 28551, 111361, 113043, 'PC 17611', 349225, 7598,\n",
       "       113784, 248740, 244361, 229236, 248733, 31418, 386525,\n",
       "       'C.A. 37671', 315088, 7267, 113510, 2695, 2647, 345783, 237671,\n",
       "       330931, 330980, 'SC/PARIS 2167', 2691, 'SOTON/O.Q. 3101310',\n",
       "       'C 7076', 110813, 2626, 14313, 'PC 17477', 11765, 3101267, 323951,\n",
       "       'C 7077', 113503, 2648, 347069, 'PC 17757', 2653,\n",
       "       'STON/O 2. 3101293', 349227, 27849, 367655, 'SC 1748', 113760,\n",
       "       350034, 3101277, 350052, 350407, 28403, 244278, 240929,\n",
       "       'STON/O 2. 3101289', 341826, 4137, 315096, 28664, 347064, 29106,\n",
       "       312992, 349222, 394140, 'STON/O 2. 3101269', 343095, 28220, 250652,\n",
       "       28228, 345773, 349254, 'A/5. 13032', 315082, 347080, 'A/4. 34244',\n",
       "       2003, 250655, 364851, 'SOTON/O.Q. 392078', 110564, 376564,\n",
       "       'SC/AH 3085', 'STON/O 2. 3101274', 13507, 'C.A. 18723', 345769,\n",
       "       347076, 230434, 65306, 33638, 113794, 2666, 113786, 65303, 113051,\n",
       "       17453, 'A/5 2817', 349240, 13509, 17464, 'F.C.C. 13531', 371060,\n",
       "       19952, 364506, 111320, 234360, 'A/S 2816', 'SOTON/O.Q. 3101306',\n",
       "       113792, 36209, 323592, 315089, 'SC/AH Basle 541', 7553, 31027,\n",
       "       3460, 350060, 3101298, 239854, 'A/5 3594', 4134, 11771,\n",
       "       'A.5. 18509', 65304, 'SOTON/OQ 3101317', 113787, 'PC 17609',\n",
       "       'A/4 45380', 36947, 'C.A. 6212', 350035, 315086, 364846, 330909,\n",
       "       4135, 26360, 111427, 'C 4001', 382651, 'SOTON/OQ 3101316',\n",
       "       'PC 17473', 'PC 17603', 349209, 36967, 'C.A. 34260', 226875,\n",
       "       349242, 12749, 349252, 2624, 2700, 367232, 'W./C. 14258',\n",
       "       'PC 17483', 3101296, 29104, 2641, 2690, 315084, 113050, 'PC 17761',\n",
       "       364498, 13568, 'WE/P 5735', 2908, 693, 'SC/PARIS 2146', 244358,\n",
       "       330979, 2620, 347085, 113807, 11755, 345572, 372622, 349251,\n",
       "       218629, 'SOTON/OQ 392082', 'SOTON/O.Q. 392087', 'A/4 48871',\n",
       "       349205, 2686, 350417, 'S.W./PP 752', 11769, 'PC 17474', 14312,\n",
       "       'A/4. 20589', 358585, 243880, 2689, 'STON/O 2. 3101286', 237789,\n",
       "       13049, 3411, 237565, 13567, 14973, 'A./5. 3235',\n",
       "       'STON/O 2. 3101273', 'A/5 3902', 364848, 'SC/AH 29037', 248727,\n",
       "       2664, 349214, 113796, 364511, 111426, 349910, 349246, 113804,\n",
       "       'SOTON/O.Q. 3101305', 370377, 364512, 220845, 31028, 2659, 11753,\n",
       "       350029, 54636, 36963, 219533, 349224, 334912, 27042, 347743, 13214,\n",
       "       112052, 237668, 'STON/O 2. 3101292', 350050, 349231, 13213,\n",
       "       'S.O./P.P. 751', 'CA. 2314', 349221, 8475, 330919, 365226, 349223,\n",
       "       29751, 2623, 5727, 349210, 'STON/O 2. 3101285', 234686, 312993,\n",
       "       'A/5 3536', 19996, 29750, 'F.C. 12750', 'C.A. 24580', 244270,\n",
       "       239856, 349912, 342826, 4138, 330935, 6563, 349228, 350036, 24160,\n",
       "       17474, 349256, 2672, 113800, 248731, 363592, 35852, 348121,\n",
       "       'PC 17475', 36864, 350025, 223596, 'PC 17476', 'PC 17482', 113028,\n",
       "       7545, 250647, 348124, 34218, 36568, 347062, 350048, 12233, 250643,\n",
       "       113806, 315094, 36866, 236853, 'STON/O2. 3101271', 239855, 28425,\n",
       "       233639, 349201, 349218, 16988, 376566, 'STON/O 2. 3101288', 250648,\n",
       "       113773, 335097, 29103, 392096, 345780, 349204, 350042, 29108,\n",
       "       363294, 'SOTON/O2 3101272', 2663, 347074, 112379, 364850, 8471,\n",
       "       345781, 350047, 'S.O./P.P. 3', 2674, 29105, 347078, 383121, 36865,\n",
       "       2687, 113501, 'W./C. 6607', 'SOTON/O.Q. 3101312', 374887, 3101265,\n",
       "       12460, 'PC 17600', 349203, 28213, 17465, 349244, 2685, 2625,\n",
       "       347089, 347063, 112050, 347087, 248723, 3474, 28206, 364499,\n",
       "       112058, 'STON/O2. 3101290', 'S.C./PARIS 2079', 'C 7075', 315098,\n",
       "       19972, 368323, 367228, 2671, 347468, 2223, 'PC 17756', 315097,\n",
       "       392092, 11774, 'SOTON/O2 3101287', 2683, 315090, 'C.A. 5547',\n",
       "       349213, 347060, 'PC 17592', 392091, 113055, 2629, 350026, 28134,\n",
       "       17466, 233866, 236852, 'SC/PARIS 2149', 'PC 17590', 345777, 349248,\n",
       "       695, 345765, 2667, 349212, 349217, 349257, 7552,\n",
       "       'C.A./SOTON 34068', 'SOTON/OQ 392076', 211536, 112053, 111369,\n",
       "       370376], dtype=object)"
      ]
     },
     "execution_count": 292,
     "metadata": {},
     "output_type": "execute_result"
    }
   ],
   "source": [
    "df['Ticket'].unique()"
   ]
  },
  {
   "cell_type": "code",
   "execution_count": 293,
   "id": "d756c559",
   "metadata": {},
   "outputs": [],
   "source": [
    "df = df.drop(columns=['Ticket'])"
   ]
  },
  {
   "cell_type": "code",
   "execution_count": 294,
   "id": "82b5fb3b",
   "metadata": {},
   "outputs": [
    {
     "name": "stdout",
     "output_type": "stream",
     "text": [
      "<class 'pandas.core.frame.DataFrame'>\n",
      "RangeIndex: 891 entries, 0 to 890\n",
      "Data columns (total 12 columns):\n",
      " #   Column       Non-Null Count  Dtype   \n",
      "---  ------       --------------  -----   \n",
      " 0   PassengerId  891 non-null    int32   \n",
      " 1   Survived     891 non-null    bool    \n",
      " 2   Pclass       891 non-null    category\n",
      " 3   Name         891 non-null    object  \n",
      " 4   Title        891 non-null    category\n",
      " 5   Sex          891 non-null    category\n",
      " 6   Age          891 non-null    int32   \n",
      " 7   SibSp        891 non-null    int32   \n",
      " 8   Parch        891 non-null    int32   \n",
      " 9   Fare         891 non-null    float64 \n",
      " 10  Cabin        204 non-null    object  \n",
      " 11  Embarked     890 non-null    object  \n",
      "dtypes: bool(1), category(3), float64(1), int32(4), object(3)\n",
      "memory usage: 45.8+ KB\n"
     ]
    }
   ],
   "source": [
    "df.info()"
   ]
  },
  {
   "cell_type": "markdown",
   "id": "8e4d7ed9",
   "metadata": {},
   "source": [
    "## Fare"
   ]
  },
  {
   "cell_type": "code",
   "execution_count": 295,
   "id": "990d2f76",
   "metadata": {},
   "outputs": [
    {
     "data": {
      "text/plain": [
       "array([  7.25  ,  71.2833,   7.925 ,  53.1   ,   8.05  ,   8.4583,\n",
       "        51.8625,  21.075 ,  11.1333,  30.0708,  16.7   ,  26.55  ,\n",
       "        31.275 ,   7.8542,  16.    ,  29.125 ,  13.    ,  18.    ,\n",
       "         7.225 ,  26.    ,   8.0292,  35.5   ,  31.3875, 263.    ,\n",
       "         7.8792,   7.8958,  27.7208, 146.5208,   7.75  ,  10.5   ,\n",
       "        82.1708,  52.    ,   7.2292,  11.2417,   9.475 ,  21.    ,\n",
       "        41.5792,  15.5   ,  21.6792,  17.8   ,  39.6875,   7.8   ,\n",
       "        76.7292,  61.9792,  27.75  ,  46.9   ,  80.    ,  83.475 ,\n",
       "        27.9   ,  15.2458,   8.1583,   8.6625,  73.5   ,  14.4542,\n",
       "        56.4958,   7.65  ,  29.    ,  12.475 ,   9.    ,   9.5   ,\n",
       "         7.7875,  47.1   ,  15.85  ,  34.375 ,  61.175 ,  20.575 ,\n",
       "        34.6542,  63.3583,  23.    ,  77.2875,   8.6542,   7.775 ,\n",
       "        24.15  ,   9.825 ,  14.4583, 247.5208,   7.1417,  22.3583,\n",
       "         6.975 ,   7.05  ,  14.5   ,  15.0458,  26.2833,   9.2167,\n",
       "        79.2   ,   6.75  ,  11.5   ,  36.75  ,   7.7958,  12.525 ,\n",
       "        66.6   ,   7.3125,  61.3792,   7.7333,  69.55  ,  16.1   ,\n",
       "        15.75  ,  20.525 ,  55.    ,  25.925 ,  33.5   ,  30.6958,\n",
       "        25.4667,  28.7125,   0.    ,  15.05  ,  39.    ,  22.025 ,\n",
       "        50.    ,   8.4042,   6.4958,  10.4625,  18.7875,  31.    ,\n",
       "       113.275 ,  27.    ,  76.2917,  90.    ,   9.35  ,  13.5   ,\n",
       "         7.55  ,  26.25  ,  12.275 ,   7.125 ,  52.5542,  20.2125,\n",
       "        86.5   , 512.3292,  79.65  , 153.4625, 135.6333,  19.5   ,\n",
       "        29.7   ,  77.9583,  20.25  ,  78.85  ,  91.0792,  12.875 ,\n",
       "         8.85  , 151.55  ,  30.5   ,  23.25  ,  12.35  , 110.8833,\n",
       "       108.9   ,  24.    ,  56.9292,  83.1583, 262.375 ,  14.    ,\n",
       "       164.8667, 134.5   ,   6.2375,  57.9792,  28.5   , 133.65  ,\n",
       "        15.9   ,   9.225 ,  35.    ,  75.25  ,  69.3   ,  55.4417,\n",
       "       211.5   ,   4.0125, 227.525 ,  15.7417,   7.7292,  12.    ,\n",
       "       120.    ,  12.65  ,  18.75  ,   6.8583,  32.5   ,   7.875 ,\n",
       "        14.4   ,  55.9   ,   8.1125,  81.8583,  19.2583,  19.9667,\n",
       "        89.1042,  38.5   ,   7.725 ,  13.7917,   9.8375,   7.0458,\n",
       "         7.5208,  12.2875,   9.5875,  49.5042,  78.2667,  15.1   ,\n",
       "         7.6292,  22.525 ,  26.2875,  59.4   ,   7.4958,  34.0208,\n",
       "        93.5   , 221.7792, 106.425 ,  49.5   ,  71.    ,  13.8625,\n",
       "         7.8292,  39.6   ,  17.4   ,  51.4792,  26.3875,  30.    ,\n",
       "        40.125 ,   8.7125,  15.    ,  33.    ,  42.4   ,  15.55  ,\n",
       "        65.    ,  32.3208,   7.0542,   8.4333,  25.5875,   9.8417,\n",
       "         8.1375,  10.1708, 211.3375,  57.    ,  13.4167,   7.7417,\n",
       "         9.4833,   7.7375,   8.3625,  23.45  ,  25.9292,   8.6833,\n",
       "         8.5167,   7.8875,  37.0042,   6.45  ,   6.95  ,   8.3   ,\n",
       "         6.4375,  39.4   ,  14.1083,  13.8583,  50.4958,   5.    ,\n",
       "         9.8458,  10.5167])"
      ]
     },
     "execution_count": 295,
     "metadata": {},
     "output_type": "execute_result"
    }
   ],
   "source": [
    "df['Fare'].unique()"
   ]
  },
  {
   "cell_type": "code",
   "execution_count": 296,
   "id": "218a4d8a",
   "metadata": {},
   "outputs": [],
   "source": [
    "df['Fare'] = df['Fare'].round(2)"
   ]
  },
  {
   "cell_type": "code",
   "execution_count": 297,
   "id": "b81b9d35",
   "metadata": {},
   "outputs": [
    {
     "data": {
      "text/plain": [
       "array([  7.25,  71.28,   7.92,  53.1 ,   8.05,   8.46,  51.86,  21.08,\n",
       "        11.13,  30.07,  16.7 ,  26.55,  31.28,   7.85,  16.  ,  29.12,\n",
       "        13.  ,  18.  ,   7.22,  26.  ,   8.03,  35.5 ,  31.39, 263.  ,\n",
       "         7.88,   7.9 ,  27.72, 146.52,   7.75,  10.5 ,  82.17,  52.  ,\n",
       "         7.23,  11.24,   9.48,  21.  ,  41.58,  15.5 ,  21.68,  17.8 ,\n",
       "        39.69,   7.8 ,  76.73,  61.98,  27.75,  46.9 ,  80.  ,  83.48,\n",
       "        27.9 ,  15.25,   8.16,   8.66,  73.5 ,  14.45,  56.5 ,   7.65,\n",
       "        29.  ,  12.48,   9.  ,   9.5 ,   7.79,  47.1 ,  15.85,  34.38,\n",
       "        61.18,  20.58,  34.65,  63.36,  23.  ,  77.29,   8.65,   7.78,\n",
       "        24.15,   9.82,  14.46, 247.52,   7.14,  22.36,   6.98,   7.05,\n",
       "        14.5 ,  15.05,  26.28,   9.22,  79.2 ,   6.75,  11.5 ,  36.75,\n",
       "        12.52,  66.6 ,   7.31,  61.38,   7.73,  69.55,  16.1 ,  15.75,\n",
       "        20.52,  55.  ,  25.92,  33.5 ,  30.7 ,  25.47,  28.71,   0.  ,\n",
       "        39.  ,  22.02,  50.  ,   8.4 ,   6.5 ,  10.46,  18.79,  31.  ,\n",
       "       113.28,  27.  ,  76.29,  90.  ,   9.35,  13.5 ,   7.55,  26.25,\n",
       "        12.28,   7.12,  52.55,  20.21,  86.5 , 512.33,  79.65, 153.46,\n",
       "       135.63,  19.5 ,  29.7 ,  77.96,  20.25,  78.85,  91.08,  12.88,\n",
       "         8.85, 151.55,  30.5 ,  23.25,  12.35, 110.88, 108.9 ,  24.  ,\n",
       "        56.93,  83.16, 262.38,  14.  , 164.87, 134.5 ,   6.24,  57.98,\n",
       "        28.5 , 133.65,  15.9 ,  35.  ,  75.25,  69.3 ,  55.44, 211.5 ,\n",
       "         4.01, 227.52,  15.74,  12.  , 120.  ,  12.65,  18.75,   6.86,\n",
       "        32.5 ,  14.4 ,  55.9 ,   8.11,  81.86,  19.26,  19.97,  89.1 ,\n",
       "        38.5 ,   7.72,  13.79,   9.84,   7.52,  12.29,   9.59,  49.5 ,\n",
       "        78.27,  15.1 ,   7.63,  22.52,  26.29,  59.4 ,   7.5 ,  34.02,\n",
       "        93.5 , 221.78, 106.42,  71.  ,  13.86,   7.83,  39.6 ,  17.4 ,\n",
       "        51.48,  26.39,  30.  ,  40.12,   8.71,  15.  ,  33.  ,  42.4 ,\n",
       "        15.55,  65.  ,  32.32,   8.43,  25.59,   8.14,  10.17, 211.34,\n",
       "        57.  ,  13.42,   7.74,   8.36,  23.45,  25.93,   8.68,   8.52,\n",
       "         7.89,  37.  ,   6.45,   6.95,   8.3 ,   6.44,  39.4 ,  14.11,\n",
       "        50.5 ,   5.  ,   9.85,  10.52])"
      ]
     },
     "execution_count": 297,
     "metadata": {},
     "output_type": "execute_result"
    }
   ],
   "source": [
    "df['Fare'].unique()"
   ]
  },
  {
   "cell_type": "code",
   "execution_count": 298,
   "id": "a33b2593",
   "metadata": {},
   "outputs": [
    {
     "data": {
      "text/html": [
       "<div>\n",
       "<style scoped>\n",
       "    .dataframe tbody tr th:only-of-type {\n",
       "        vertical-align: middle;\n",
       "    }\n",
       "\n",
       "    .dataframe tbody tr th {\n",
       "        vertical-align: top;\n",
       "    }\n",
       "\n",
       "    .dataframe thead th {\n",
       "        text-align: right;\n",
       "    }\n",
       "</style>\n",
       "<table border=\"1\" class=\"dataframe\">\n",
       "  <thead>\n",
       "    <tr style=\"text-align: right;\">\n",
       "      <th></th>\n",
       "      <th>Fare</th>\n",
       "      <th>count</th>\n",
       "    </tr>\n",
       "  </thead>\n",
       "  <tbody>\n",
       "    <tr>\n",
       "      <th>0</th>\n",
       "      <td>8.05</td>\n",
       "      <td>43</td>\n",
       "    </tr>\n",
       "    <tr>\n",
       "      <th>1</th>\n",
       "      <td>13.00</td>\n",
       "      <td>42</td>\n",
       "    </tr>\n",
       "    <tr>\n",
       "      <th>2</th>\n",
       "      <td>7.90</td>\n",
       "      <td>38</td>\n",
       "    </tr>\n",
       "    <tr>\n",
       "      <th>3</th>\n",
       "      <td>7.75</td>\n",
       "      <td>34</td>\n",
       "    </tr>\n",
       "    <tr>\n",
       "      <th>4</th>\n",
       "      <td>26.00</td>\n",
       "      <td>31</td>\n",
       "    </tr>\n",
       "    <tr>\n",
       "      <th>...</th>\n",
       "      <td>...</td>\n",
       "      <td>...</td>\n",
       "    </tr>\n",
       "    <tr>\n",
       "      <th>231</th>\n",
       "      <td>6.24</td>\n",
       "      <td>1</td>\n",
       "    </tr>\n",
       "    <tr>\n",
       "      <th>232</th>\n",
       "      <td>16.00</td>\n",
       "      <td>1</td>\n",
       "    </tr>\n",
       "    <tr>\n",
       "      <th>233</th>\n",
       "      <td>8.85</td>\n",
       "      <td>1</td>\n",
       "    </tr>\n",
       "    <tr>\n",
       "      <th>234</th>\n",
       "      <td>12.88</td>\n",
       "      <td>1</td>\n",
       "    </tr>\n",
       "    <tr>\n",
       "      <th>235</th>\n",
       "      <td>10.52</td>\n",
       "      <td>1</td>\n",
       "    </tr>\n",
       "  </tbody>\n",
       "</table>\n",
       "<p>236 rows × 2 columns</p>\n",
       "</div>"
      ],
      "text/plain": [
       "      Fare  count\n",
       "0     8.05     43\n",
       "1    13.00     42\n",
       "2     7.90     38\n",
       "3     7.75     34\n",
       "4    26.00     31\n",
       "..     ...    ...\n",
       "231   6.24      1\n",
       "232  16.00      1\n",
       "233   8.85      1\n",
       "234  12.88      1\n",
       "235  10.52      1\n",
       "\n",
       "[236 rows x 2 columns]"
      ]
     },
     "execution_count": 298,
     "metadata": {},
     "output_type": "execute_result"
    }
   ],
   "source": [
    "df['Fare'].value_counts().to_frame().reset_index()"
   ]
  },
  {
   "cell_type": "code",
   "execution_count": 299,
   "id": "8aab4325",
   "metadata": {},
   "outputs": [
    {
     "data": {
      "text/plain": [
       "0"
      ]
     },
     "execution_count": 299,
     "metadata": {},
     "output_type": "execute_result"
    }
   ],
   "source": [
    "df['Fare'].isnull().sum()"
   ]
  },
  {
   "cell_type": "code",
   "execution_count": 300,
   "id": "b73ec2b4",
   "metadata": {},
   "outputs": [
    {
     "name": "stdout",
     "output_type": "stream",
     "text": [
      "<class 'pandas.core.frame.DataFrame'>\n",
      "RangeIndex: 891 entries, 0 to 890\n",
      "Data columns (total 12 columns):\n",
      " #   Column       Non-Null Count  Dtype   \n",
      "---  ------       --------------  -----   \n",
      " 0   PassengerId  891 non-null    int32   \n",
      " 1   Survived     891 non-null    bool    \n",
      " 2   Pclass       891 non-null    category\n",
      " 3   Name         891 non-null    object  \n",
      " 4   Title        891 non-null    category\n",
      " 5   Sex          891 non-null    category\n",
      " 6   Age          891 non-null    int32   \n",
      " 7   SibSp        891 non-null    int32   \n",
      " 8   Parch        891 non-null    int32   \n",
      " 9   Fare         891 non-null    float64 \n",
      " 10  Cabin        204 non-null    object  \n",
      " 11  Embarked     890 non-null    object  \n",
      "dtypes: bool(1), category(3), float64(1), int32(4), object(3)\n",
      "memory usage: 45.8+ KB\n"
     ]
    }
   ],
   "source": [
    "df.info()"
   ]
  },
  {
   "cell_type": "markdown",
   "id": "a3651174",
   "metadata": {},
   "source": [
    "## Cabin"
   ]
  },
  {
   "cell_type": "code",
   "execution_count": 301,
   "id": "b98ba71a",
   "metadata": {},
   "outputs": [
    {
     "data": {
      "text/plain": [
       "array([nan, 'C85', 'C123', 'E46', 'G6', 'C103', 'D56', 'A6',\n",
       "       'C23 C25 C27', 'B78', 'D33', 'B30', 'C52', 'B28', 'C83', 'F33',\n",
       "       'F G73', 'E31', 'A5', 'D10 D12', 'D26', 'C110', 'B58 B60', 'E101',\n",
       "       'F E69', 'D47', 'B86', 'F2', 'C2', 'E33', 'B19', 'A7', 'C49', 'F4',\n",
       "       'A32', 'B4', 'B80', 'A31', 'D36', 'D15', 'C93', 'C78', 'D35',\n",
       "       'C87', 'B77', 'E67', 'B94', 'C125', 'C99', 'C118', 'D7', 'A19',\n",
       "       'B49', 'D', 'C22 C26', 'C106', 'C65', 'E36', 'C54',\n",
       "       'B57 B59 B63 B66', 'C7', 'E34', 'C32', 'B18', 'C124', 'C91', 'E40',\n",
       "       'T', 'C128', 'D37', 'B35', 'E50', 'C82', 'B96 B98', 'E10', 'E44',\n",
       "       'A34', 'C104', 'C111', 'C92', 'E38', 'D21', 'E12', 'E63', 'A14',\n",
       "       'B37', 'C30', 'D20', 'B79', 'E25', 'D46', 'B73', 'C95', 'B38',\n",
       "       'B39', 'B22', 'C86', 'C70', 'A16', 'C101', 'C68', 'A10', 'E68',\n",
       "       'B41', 'A20', 'D19', 'D50', 'D9', 'A23', 'B50', 'A26', 'D48',\n",
       "       'E58', 'C126', 'B71', 'B51 B53 B55', 'D49', 'B5', 'B20', 'F G63',\n",
       "       'C62 C64', 'E24', 'C90', 'C45', 'E8', 'B101', 'D45', 'C46', 'D30',\n",
       "       'E121', 'D11', 'E77', 'F38', 'B3', 'D6', 'B82 B84', 'D17', 'A36',\n",
       "       'B102', 'B69', 'E49', 'C47', 'D28', 'E17', 'A24', 'C50', 'B42',\n",
       "       'C148'], dtype=object)"
      ]
     },
     "execution_count": 301,
     "metadata": {},
     "output_type": "execute_result"
    }
   ],
   "source": [
    "df['Cabin'].unique()"
   ]
  },
  {
   "cell_type": "code",
   "execution_count": 302,
   "id": "69d63375",
   "metadata": {},
   "outputs": [
    {
     "data": {
      "text/plain": [
       "687"
      ]
     },
     "execution_count": 302,
     "metadata": {},
     "output_type": "execute_result"
    }
   ],
   "source": [
    "df['Cabin'].isnull().sum()"
   ]
  },
  {
   "cell_type": "code",
   "execution_count": 303,
   "id": "0aa0cc7f",
   "metadata": {},
   "outputs": [],
   "source": [
    "df = df.drop(columns=['Cabin'])"
   ]
  },
  {
   "cell_type": "code",
   "execution_count": 304,
   "id": "d4837f3b",
   "metadata": {},
   "outputs": [
    {
     "name": "stdout",
     "output_type": "stream",
     "text": [
      "<class 'pandas.core.frame.DataFrame'>\n",
      "RangeIndex: 891 entries, 0 to 890\n",
      "Data columns (total 11 columns):\n",
      " #   Column       Non-Null Count  Dtype   \n",
      "---  ------       --------------  -----   \n",
      " 0   PassengerId  891 non-null    int32   \n",
      " 1   Survived     891 non-null    bool    \n",
      " 2   Pclass       891 non-null    category\n",
      " 3   Name         891 non-null    object  \n",
      " 4   Title        891 non-null    category\n",
      " 5   Sex          891 non-null    category\n",
      " 6   Age          891 non-null    int32   \n",
      " 7   SibSp        891 non-null    int32   \n",
      " 8   Parch        891 non-null    int32   \n",
      " 9   Fare         891 non-null    float64 \n",
      " 10  Embarked     890 non-null    object  \n",
      "dtypes: bool(1), category(3), float64(1), int32(4), object(2)\n",
      "memory usage: 38.9+ KB\n"
     ]
    }
   ],
   "source": [
    "df.info()"
   ]
  },
  {
   "cell_type": "markdown",
   "id": "f9afcf79",
   "metadata": {},
   "source": [
    "## Embarked"
   ]
  },
  {
   "cell_type": "code",
   "execution_count": 305,
   "id": "ce86f59f",
   "metadata": {},
   "outputs": [
    {
     "data": {
      "text/plain": [
       "Embarked\n",
       "S    644\n",
       "C    169\n",
       "Q     77\n",
       "Name: count, dtype: int64"
      ]
     },
     "execution_count": 305,
     "metadata": {},
     "output_type": "execute_result"
    }
   ],
   "source": [
    "df['Embarked'].value_counts()"
   ]
  },
  {
   "cell_type": "code",
   "execution_count": 306,
   "id": "8a82c2ad",
   "metadata": {},
   "outputs": [
    {
     "data": {
      "text/plain": [
       "1"
      ]
     },
     "execution_count": 306,
     "metadata": {},
     "output_type": "execute_result"
    }
   ],
   "source": [
    "df['Embarked'].isnull().sum()"
   ]
  },
  {
   "cell_type": "code",
   "execution_count": 307,
   "id": "f1f9f909",
   "metadata": {},
   "outputs": [
    {
     "data": {
      "text/html": [
       "<div>\n",
       "<style scoped>\n",
       "    .dataframe tbody tr th:only-of-type {\n",
       "        vertical-align: middle;\n",
       "    }\n",
       "\n",
       "    .dataframe tbody tr th {\n",
       "        vertical-align: top;\n",
       "    }\n",
       "\n",
       "    .dataframe thead th {\n",
       "        text-align: right;\n",
       "    }\n",
       "</style>\n",
       "<table border=\"1\" class=\"dataframe\">\n",
       "  <thead>\n",
       "    <tr style=\"text-align: right;\">\n",
       "      <th></th>\n",
       "      <th>PassengerId</th>\n",
       "      <th>Survived</th>\n",
       "      <th>Pclass</th>\n",
       "      <th>Name</th>\n",
       "      <th>Title</th>\n",
       "      <th>Sex</th>\n",
       "      <th>Age</th>\n",
       "      <th>SibSp</th>\n",
       "      <th>Parch</th>\n",
       "      <th>Fare</th>\n",
       "      <th>Embarked</th>\n",
       "    </tr>\n",
       "  </thead>\n",
       "  <tbody>\n",
       "    <tr>\n",
       "      <th>829</th>\n",
       "      <td>830</td>\n",
       "      <td>True</td>\n",
       "      <td>1</td>\n",
       "      <td>George Nelson (Martha Evelyn)</td>\n",
       "      <td>Mrs</td>\n",
       "      <td>female</td>\n",
       "      <td>62</td>\n",
       "      <td>0</td>\n",
       "      <td>0</td>\n",
       "      <td>80.0</td>\n",
       "      <td>NaN</td>\n",
       "    </tr>\n",
       "  </tbody>\n",
       "</table>\n",
       "</div>"
      ],
      "text/plain": [
       "     PassengerId  Survived Pclass                           Name Title  \\\n",
       "829          830      True      1  George Nelson (Martha Evelyn)   Mrs   \n",
       "\n",
       "        Sex  Age  SibSp  Parch  Fare Embarked  \n",
       "829  female   62      0      0  80.0      NaN  "
      ]
     },
     "execution_count": 307,
     "metadata": {},
     "output_type": "execute_result"
    }
   ],
   "source": [
    "df[df['Embarked'].isnull()]"
   ]
  },
  {
   "cell_type": "code",
   "execution_count": 308,
   "id": "3ee18472",
   "metadata": {},
   "outputs": [
    {
     "data": {
      "text/plain": [
       "'S'"
      ]
     },
     "execution_count": 308,
     "metadata": {},
     "output_type": "execute_result"
    }
   ],
   "source": [
    "most_frequent = df['Embarked'].dropna().mode()[0]\n",
    "most_frequent"
   ]
  },
  {
   "cell_type": "code",
   "execution_count": 309,
   "id": "fd90cfa4",
   "metadata": {},
   "outputs": [],
   "source": [
    "df['Embarked'] = df['Embarked'].fillna(most_frequent)"
   ]
  },
  {
   "cell_type": "code",
   "execution_count": 310,
   "id": "c86dd0f3",
   "metadata": {},
   "outputs": [
    {
     "data": {
      "text/plain": [
       "0"
      ]
     },
     "execution_count": 310,
     "metadata": {},
     "output_type": "execute_result"
    }
   ],
   "source": [
    "df['Embarked'].isnull().sum()"
   ]
  },
  {
   "cell_type": "code",
   "execution_count": 311,
   "id": "7265110a",
   "metadata": {},
   "outputs": [
    {
     "data": {
      "text/html": [
       "<div>\n",
       "<style scoped>\n",
       "    .dataframe tbody tr th:only-of-type {\n",
       "        vertical-align: middle;\n",
       "    }\n",
       "\n",
       "    .dataframe tbody tr th {\n",
       "        vertical-align: top;\n",
       "    }\n",
       "\n",
       "    .dataframe thead th {\n",
       "        text-align: right;\n",
       "    }\n",
       "</style>\n",
       "<table border=\"1\" class=\"dataframe\">\n",
       "  <thead>\n",
       "    <tr style=\"text-align: right;\">\n",
       "      <th></th>\n",
       "      <th>Embarked</th>\n",
       "      <th>Survived</th>\n",
       "    </tr>\n",
       "  </thead>\n",
       "  <tbody>\n",
       "    <tr>\n",
       "      <th>0</th>\n",
       "      <td>C</td>\n",
       "      <td>0.556213</td>\n",
       "    </tr>\n",
       "    <tr>\n",
       "      <th>1</th>\n",
       "      <td>Q</td>\n",
       "      <td>0.389610</td>\n",
       "    </tr>\n",
       "    <tr>\n",
       "      <th>2</th>\n",
       "      <td>S</td>\n",
       "      <td>0.337984</td>\n",
       "    </tr>\n",
       "  </tbody>\n",
       "</table>\n",
       "</div>"
      ],
      "text/plain": [
       "  Embarked  Survived\n",
       "0        C  0.556213\n",
       "1        Q  0.389610\n",
       "2        S  0.337984"
      ]
     },
     "execution_count": 311,
     "metadata": {},
     "output_type": "execute_result"
    }
   ],
   "source": [
    "df.groupby('Embarked', as_index=False).agg({'Survived':'mean'})"
   ]
  },
  {
   "cell_type": "code",
   "execution_count": 312,
   "id": "026d40de",
   "metadata": {},
   "outputs": [
    {
     "name": "stdout",
     "output_type": "stream",
     "text": [
      "<class 'pandas.core.frame.DataFrame'>\n",
      "RangeIndex: 891 entries, 0 to 890\n",
      "Data columns (total 11 columns):\n",
      " #   Column       Non-Null Count  Dtype   \n",
      "---  ------       --------------  -----   \n",
      " 0   PassengerId  891 non-null    int32   \n",
      " 1   Survived     891 non-null    bool    \n",
      " 2   Pclass       891 non-null    category\n",
      " 3   Name         891 non-null    object  \n",
      " 4   Title        891 non-null    category\n",
      " 5   Sex          891 non-null    category\n",
      " 6   Age          891 non-null    int32   \n",
      " 7   SibSp        891 non-null    int32   \n",
      " 8   Parch        891 non-null    int32   \n",
      " 9   Fare         891 non-null    float64 \n",
      " 10  Embarked     891 non-null    object  \n",
      "dtypes: bool(1), category(3), float64(1), int32(4), object(2)\n",
      "memory usage: 38.9+ KB\n"
     ]
    }
   ],
   "source": [
    "df.info()"
   ]
  },
  {
   "cell_type": "markdown",
   "id": "c318df5e",
   "metadata": {},
   "source": [
    "## Analysis"
   ]
  },
  {
   "cell_type": "code",
   "execution_count": 313,
   "id": "5b21943d",
   "metadata": {},
   "outputs": [
    {
     "data": {
      "text/html": [
       "<div>\n",
       "<style scoped>\n",
       "    .dataframe tbody tr th:only-of-type {\n",
       "        vertical-align: middle;\n",
       "    }\n",
       "\n",
       "    .dataframe tbody tr th {\n",
       "        vertical-align: top;\n",
       "    }\n",
       "\n",
       "    .dataframe thead th {\n",
       "        text-align: right;\n",
       "    }\n",
       "</style>\n",
       "<table border=\"1\" class=\"dataframe\">\n",
       "  <thead>\n",
       "    <tr style=\"text-align: right;\">\n",
       "      <th></th>\n",
       "      <th>PassengerId</th>\n",
       "      <th>Survived</th>\n",
       "      <th>Pclass</th>\n",
       "      <th>Name</th>\n",
       "      <th>Title</th>\n",
       "      <th>Sex</th>\n",
       "      <th>Age</th>\n",
       "      <th>SibSp</th>\n",
       "      <th>Parch</th>\n",
       "      <th>Fare</th>\n",
       "      <th>Embarked</th>\n",
       "    </tr>\n",
       "  </thead>\n",
       "  <tbody>\n",
       "    <tr>\n",
       "      <th>0</th>\n",
       "      <td>1</td>\n",
       "      <td>False</td>\n",
       "      <td>3</td>\n",
       "      <td>Owen Harris</td>\n",
       "      <td>Mr</td>\n",
       "      <td>male</td>\n",
       "      <td>22</td>\n",
       "      <td>1</td>\n",
       "      <td>0</td>\n",
       "      <td>7.25</td>\n",
       "      <td>S</td>\n",
       "    </tr>\n",
       "    <tr>\n",
       "      <th>1</th>\n",
       "      <td>2</td>\n",
       "      <td>True</td>\n",
       "      <td>1</td>\n",
       "      <td>John Bradley (Florence Briggs Thayer)</td>\n",
       "      <td>Mrs</td>\n",
       "      <td>female</td>\n",
       "      <td>38</td>\n",
       "      <td>1</td>\n",
       "      <td>0</td>\n",
       "      <td>71.28</td>\n",
       "      <td>C</td>\n",
       "    </tr>\n",
       "    <tr>\n",
       "      <th>2</th>\n",
       "      <td>3</td>\n",
       "      <td>True</td>\n",
       "      <td>3</td>\n",
       "      <td>Laina</td>\n",
       "      <td>Miss</td>\n",
       "      <td>female</td>\n",
       "      <td>26</td>\n",
       "      <td>0</td>\n",
       "      <td>0</td>\n",
       "      <td>7.92</td>\n",
       "      <td>S</td>\n",
       "    </tr>\n",
       "    <tr>\n",
       "      <th>3</th>\n",
       "      <td>4</td>\n",
       "      <td>True</td>\n",
       "      <td>1</td>\n",
       "      <td>Jacques Heath (Lily May Peel)</td>\n",
       "      <td>Mrs</td>\n",
       "      <td>female</td>\n",
       "      <td>35</td>\n",
       "      <td>1</td>\n",
       "      <td>0</td>\n",
       "      <td>53.10</td>\n",
       "      <td>S</td>\n",
       "    </tr>\n",
       "    <tr>\n",
       "      <th>4</th>\n",
       "      <td>5</td>\n",
       "      <td>False</td>\n",
       "      <td>3</td>\n",
       "      <td>William Henry</td>\n",
       "      <td>Mr</td>\n",
       "      <td>male</td>\n",
       "      <td>30</td>\n",
       "      <td>0</td>\n",
       "      <td>0</td>\n",
       "      <td>8.05</td>\n",
       "      <td>S</td>\n",
       "    </tr>\n",
       "  </tbody>\n",
       "</table>\n",
       "</div>"
      ],
      "text/plain": [
       "   PassengerId  Survived Pclass                                   Name Title  \\\n",
       "0            1     False      3                            Owen Harris    Mr   \n",
       "1            2      True      1  John Bradley (Florence Briggs Thayer)   Mrs   \n",
       "2            3      True      3                                  Laina  Miss   \n",
       "3            4      True      1          Jacques Heath (Lily May Peel)   Mrs   \n",
       "4            5     False      3                          William Henry    Mr   \n",
       "\n",
       "      Sex  Age  SibSp  Parch   Fare Embarked  \n",
       "0    male   22      1      0   7.25        S  \n",
       "1  female   38      1      0  71.28        C  \n",
       "2  female   26      0      0   7.92        S  \n",
       "3  female   35      1      0  53.10        S  \n",
       "4    male   30      0      0   8.05        S  "
      ]
     },
     "execution_count": 313,
     "metadata": {},
     "output_type": "execute_result"
    }
   ],
   "source": [
    "df.head()"
   ]
  },
  {
   "cell_type": "code",
   "execution_count": 331,
   "id": "40d1ef8e",
   "metadata": {},
   "outputs": [
    {
     "data": {
      "text/html": [
       "<div>\n",
       "<style scoped>\n",
       "    .dataframe tbody tr th:only-of-type {\n",
       "        vertical-align: middle;\n",
       "    }\n",
       "\n",
       "    .dataframe tbody tr th {\n",
       "        vertical-align: top;\n",
       "    }\n",
       "\n",
       "    .dataframe thead th {\n",
       "        text-align: right;\n",
       "    }\n",
       "</style>\n",
       "<table border=\"1\" class=\"dataframe\">\n",
       "  <thead>\n",
       "    <tr style=\"text-align: right;\">\n",
       "      <th></th>\n",
       "      <th>PassengerId</th>\n",
       "    </tr>\n",
       "    <tr>\n",
       "      <th>Sex</th>\n",
       "      <th></th>\n",
       "    </tr>\n",
       "  </thead>\n",
       "  <tbody>\n",
       "    <tr>\n",
       "      <th>female</th>\n",
       "      <td>314</td>\n",
       "    </tr>\n",
       "    <tr>\n",
       "      <th>male</th>\n",
       "      <td>577</td>\n",
       "    </tr>\n",
       "  </tbody>\n",
       "</table>\n",
       "</div>"
      ],
      "text/plain": [
       "        PassengerId\n",
       "Sex                \n",
       "female          314\n",
       "male            577"
      ]
     },
     "execution_count": 331,
     "metadata": {},
     "output_type": "execute_result"
    }
   ],
   "source": [
    "df.groupby('Sex').agg({'PassengerId':'count'})"
   ]
  },
  {
   "cell_type": "code",
   "execution_count": 364,
   "id": "a2389c0e",
   "metadata": {},
   "outputs": [
    {
     "data": {
      "image/png": "[encoded data removed]",
      "text/plain": [
       "<Figure size 640x480 with 1 Axes>"
      ]
     },
     "metadata": {},
     "output_type": "display_data"
    }
   ],
   "source": [
    "plt.figure()\n",
    "t= sns.countplot(data=df, x='Sex')\n",
    "plt.title('Passengers by Sex')\n",
    "plt.show()"
   ]
  },
  {
   "cell_type": "code",
   "execution_count": 366,
   "id": "6f080eb8",
   "metadata": {},
   "outputs": [
    {
     "data": {
      "text/plain": [
       "Text(0.5, 1.0, 'Passengers by Sex')"
      ]
     },
     "execution_count": 366,
     "metadata": {},
     "output_type": "execute_result"
    },
    {
     "data": {
      "image/png": "[encoded data removed]",
      "text/plain": [
       "<Figure size 640x480 with 1 Axes>"
      ]
     },
     "metadata": {},
     "output_type": "display_data"
    }
   ],
   "source": [
    "ax = sns.countplot(x=df['Sex'],\n",
    "                   order=df['Sex'].value_counts(ascending=False).index);\n",
    "        \n",
    "abs_values = df['Sex'].value_counts(ascending=False)\n",
    "rel_values = df['Sex'].value_counts(ascending=False, normalize=True).values * 100\n",
    "lbls = [f'{p[0]} ({p[1]:.0f}%)' for p in zip(abs_values, rel_values)]\n",
    "\n",
    "ax.bar_label(container=ax.containers[0], labels=lbls)\n",
    "plt.title('Passengers by Sex')"
   ]
  },
  {
   "cell_type": "code",
   "execution_count": 391,
   "id": "8b6eb6a5",
   "metadata": {},
   "outputs": [
    {
     "data": {
      "text/plain": [
       "Text(0.5, 1.0, 'Age distribution')"
      ]
     },
     "execution_count": 391,
     "metadata": {},
     "output_type": "execute_result"
    },
    {
     "data": {
      "image/png": "[encoded data removed]",
      "text/plain": [
       "<Figure size 640x480 with 1 Axes>"
      ]
     },
     "metadata": {},
     "output_type": "display_data"
    }
   ],
   "source": [
    "sns.histplot(data=df, x='Age', kde=True)\n",
    "plt.title('Age distribution')"
   ]
  },
  {
   "cell_type": "code",
   "execution_count": 348,
   "id": "6cd1998f",
   "metadata": {},
   "outputs": [
    {
     "data": {
      "image/png": "[encoded data removed]",
      "text/plain": [
       "<Figure size 640x480 with 1 Axes>"
      ]
     },
     "metadata": {},
     "output_type": "display_data"
    }
   ],
   "source": [
    "plt.figure()\n",
    "sns.histplot(data=df, x='Age', hue='Sex', kde=True)\n",
    "plt.title('Age distributrion by Gender')\n",
    "plt.show()"
   ]
  },
  {
   "cell_type": "code",
   "execution_count": 395,
   "id": "0e5f6b43",
   "metadata": {},
   "outputs": [
    {
     "name": "stderr",
     "output_type": "stream",
     "text": [
      "C:\\Users\\Dell\\anaconda3\\Lib\\site-packages\\seaborn\\axisgrid.py:118: UserWarning: The figure layout has changed to tight\n",
      "  self._figure.tight_layout(*args, **kwargs)\n",
      "C:\\Users\\Dell\\anaconda3\\Lib\\site-packages\\seaborn\\axisgrid.py:118: UserWarning: The figure layout has changed to tight\n",
      "  self._figure.tight_layout(*args, **kwargs)\n"
     ]
    },
    {
     "data": {
      "text/plain": [
       "<seaborn.axisgrid.FacetGrid at 0x122ef87e510>"
      ]
     },
     "execution_count": 395,
     "metadata": {},
     "output_type": "execute_result"
    },
    {
     "data": {
      "image/png": "[encoded data removed]",
      "text/plain": [
       "<Figure size 601.125x500 with 1 Axes>"
      ]
     },
     "metadata": {},
     "output_type": "display_data"
    }
   ],
   "source": [
    "generations = [10,20,40,60,80]\n",
    "sns.lmplot(data=df, x='Age', y='Survived', hue='Sex', palette='winter', x_bins=generations)"
   ]
  },
  {
   "cell_type": "code",
   "execution_count": 357,
   "id": "0a917780",
   "metadata": {},
   "outputs": [
    {
     "data": {
      "image/png": "[encoded data removed]",
      "text/plain": [
       "<Figure size 640x480 with 1 Axes>"
      ]
     },
     "metadata": {},
     "output_type": "display_data"
    }
   ],
   "source": [
    "plt.figure()\n",
    "sns.barplot(data=df, x='Pclass', y='Survived', hue='Sex', errorbar=None)\n",
    "plt.title('Survival Rate by Passanger Class and Gender')\n",
    "plt.show()"
   ]
  },
  {
   "cell_type": "code",
   "execution_count": 370,
   "id": "7a71439e",
   "metadata": {},
   "outputs": [
    {
     "data": {
      "image/png": "[encoded data removed]",
      "text/plain": [
       "<Figure size 640x480 with 1 Axes>"
      ]
     },
     "metadata": {},
     "output_type": "display_data"
    }
   ],
   "source": [
    "plt.figure()\n",
    "sns.countplot(data=df, x='Embarked', hue='Survived')\n",
    "plt.title('Survival Count based on Embarkation Port')\n",
    "plt.show()"
   ]
  },
  {
   "cell_type": "code",
   "execution_count": 377,
   "id": "eea89fab",
   "metadata": {},
   "outputs": [
    {
     "data": {
      "image/png": "[encoded data removed]",
      "text/plain": [
       "<Figure size 640x480 with 1 Axes>"
      ]
     },
     "metadata": {},
     "output_type": "display_data"
    }
   ],
   "source": [
    "plt.figure()\n",
    "sns.boxplot(data=df, x='Pclass', y='Fare', hue='Survived')\n",
    "plt.ylim(0, 300)\n",
    "plt.title('Fare distribution by Passenger Class and Survival')\n",
    "plt.show()"
   ]
  },
  {
   "cell_type": "code",
   "execution_count": 380,
   "id": "26559c7e",
   "metadata": {},
   "outputs": [
    {
     "data": {
      "image/png": "[encoded data removed]",
      "text/plain": [
       "<Figure size 640x480 with 1 Axes>"
      ]
     },
     "metadata": {},
     "output_type": "display_data"
    }
   ],
   "source": [
    "df['Family_size'] = df['SibSp'] + df['Parch']\n",
    "sns.countplot(data=df, x='Family_size', hue='Survived')\n",
    "plt.title('Survival Count based on Family Size')\n",
    "plt.show()"
   ]
  },
  {
   "cell_type": "code",
   "execution_count": 382,
   "id": "2c27a066",
   "metadata": {},
   "outputs": [
    {
     "data": {
      "image/png": "[encoded data removed]",
      "text/plain": [
       "<Figure size 640x480 with 1 Axes>"
      ]
     },
     "metadata": {},
     "output_type": "display_data"
    }
   ],
   "source": [
    "plt.figure()\n",
    "sns.countplot(data=df, x='SibSp', hue='Survived')\n",
    "plt.title('Survival Count based on Number of Siblings/Spouses Aboard')\n",
    "plt.show()"
   ]
  },
  {
   "cell_type": "markdown",
   "id": "ecefdc2f",
   "metadata": {},
   "source": [
    "\n",
    "\n",
    "    Gender and Survival: Women had a significantly higher survival rate than men\n",
    "\n",
    "    Passenger Class: First-class passengers had a higher survival rate\n",
    "\n",
    "    Embarkation Port: The survival count varied based on the embarkation port\n",
    "\n",
    "    Fare Distribution: The majority of passengers paid lower fares, aligning with a larger number of third-class tickets.\n",
    "\n",
    "    Fare and Survival: Within each passenger class, there is not a noticable pattern\n",
    "\n",
    "    Siblings/Spouses: Those with one have a slightly better survival rate than those alone or with many siblings/spouses.\n",
    "\n",
    "    Parents/Children: Passengers traveling alone or with one parent/child had higher survival rates compared to larger families.\n",
    "\n",
    "    Family Size: Solo travelers and those with a small family size (1-3 members) had better survival outcomes than larger families.\n",
    "    Age Distribution: Younger passengers (children) had a better survival rate, while the elderly had lower survival chances. Middle-aged individuals, especially males, formed the bulk of casualties.\n"
   ]
  },
  {
   "cell_type": "code",
   "execution_count": null,
   "id": "7b02006c",
   "metadata": {},
   "outputs": [],
   "source": []
  }
 ],
 "metadata": {
  "kernelspec": {
   "display_name": "Python 3 (ipykernel)",
   "language": "python",
   "name": "python3"
  },
  "language_info": {
   "codemirror_mode": {
    "name": "ipython",
    "version": 3
   },
   "file_extension": ".py",
   "mimetype": "text/x-python",
   "name": "python",
   "nbconvert_exporter": "python",
   "pygments_lexer": "ipython3",
   "version": "3.11.5"
  }
 },
 "nbformat": 4,
 "nbformat_minor": 5
}
